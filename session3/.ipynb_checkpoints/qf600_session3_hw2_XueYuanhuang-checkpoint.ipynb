{
 "cells": [
  {
   "cell_type": "code",
   "execution_count": 69,
   "id": "10c6779c",
   "metadata": {},
   "outputs": [],
   "source": [
    "import pandas as pd\n",
    "import numpy as np\n",
    "import statsmodels.api as sm\n",
    "import matplotlib.pyplot as plt"
   ]
  },
  {
   "cell_type": "markdown",
   "id": "3d405138",
   "metadata": {},
   "source": [
    "## 1.Market Model"
   ]
  },
  {
   "cell_type": "markdown",
   "id": "ab2fc690",
   "metadata": {},
   "source": [
    "### Estimate the intercept coefficient (α) and slope coefficient (β) for each of the ten industry portfolio using the market model: regress the monthly excess returns for each industry portfolio on the monthly excess returns for the market portfolio."
   ]
  },
  {
   "cell_type": "markdown",
   "id": "b43633b4",
   "metadata": {},
   "source": [
    "### 1.1.Create a table showing the intercept and slope coefficients for the ten industry portfolios."
   ]
  },
  {
   "cell_type": "code",
   "execution_count": 11,
   "id": "b1f3d302",
   "metadata": {},
   "outputs": [
    {
     "name": "stderr",
     "output_type": "stream",
     "text": [
      "E:\\software\\anaconda3\\Lib\\site-packages\\openpyxl\\worksheet\\_read_only.py:79: UserWarning: Unknown extension is not supported and will be removed\n",
      "  for idx, row in parser.parse():\n",
      "E:\\software\\anaconda3\\Lib\\site-packages\\openpyxl\\worksheet\\_read_only.py:79: UserWarning: Unknown extension is not supported and will be removed\n",
      "  for idx, row in parser.parse():\n"
     ]
    }
   ],
   "source": [
    "industry = pd.read_excel(\"Industry_Portfolios.xlsx\")\n",
    "market = pd.read_excel(\"Market_Portfolio.xlsx\")"
   ]
  },
  {
   "cell_type": "code",
   "execution_count": 8,
   "id": "f1a8a548",
   "metadata": {},
   "outputs": [],
   "source": [
    "#Assume that the (net) risk-free rate is 0.13% per month\n",
    "r_f = 0.13"
   ]
  },
  {
   "cell_type": "code",
   "execution_count": 21,
   "id": "219f2b77",
   "metadata": {},
   "outputs": [
    {
     "data": {
      "text/html": [
       "<div>\n",
       "<style scoped>\n",
       "    .dataframe tbody tr th:only-of-type {\n",
       "        vertical-align: middle;\n",
       "    }\n",
       "\n",
       "    .dataframe tbody tr th {\n",
       "        vertical-align: top;\n",
       "    }\n",
       "\n",
       "    .dataframe thead th {\n",
       "        text-align: right;\n",
       "    }\n",
       "</style>\n",
       "<table border=\"1\" class=\"dataframe\">\n",
       "  <thead>\n",
       "    <tr style=\"text-align: right;\">\n",
       "      <th></th>\n",
       "      <th>Date</th>\n",
       "      <th>Market</th>\n",
       "      <th>NoDur</th>\n",
       "      <th>Durbl</th>\n",
       "      <th>Manuf</th>\n",
       "      <th>Enrgy</th>\n",
       "      <th>HiTec</th>\n",
       "      <th>Telcm</th>\n",
       "      <th>Shops</th>\n",
       "      <th>Hlth</th>\n",
       "      <th>Utils</th>\n",
       "      <th>Other</th>\n",
       "    </tr>\n",
       "  </thead>\n",
       "  <tbody>\n",
       "    <tr>\n",
       "      <th>0</th>\n",
       "      <td>200401</td>\n",
       "      <td>2.22</td>\n",
       "      <td>0.06</td>\n",
       "      <td>-1.07</td>\n",
       "      <td>-0.62</td>\n",
       "      <td>0.44</td>\n",
       "      <td>4.53</td>\n",
       "      <td>1.41</td>\n",
       "      <td>0.45</td>\n",
       "      <td>3.09</td>\n",
       "      <td>1.92</td>\n",
       "      <td>2.88</td>\n",
       "    </tr>\n",
       "    <tr>\n",
       "      <th>1</th>\n",
       "      <td>200402</td>\n",
       "      <td>1.46</td>\n",
       "      <td>4.25</td>\n",
       "      <td>-0.07</td>\n",
       "      <td>1.95</td>\n",
       "      <td>4.69</td>\n",
       "      <td>-2.92</td>\n",
       "      <td>-0.52</td>\n",
       "      <td>6.09</td>\n",
       "      <td>0.89</td>\n",
       "      <td>2.07</td>\n",
       "      <td>2.16</td>\n",
       "    </tr>\n",
       "    <tr>\n",
       "      <th>2</th>\n",
       "      <td>200403</td>\n",
       "      <td>-1.23</td>\n",
       "      <td>-0.09</td>\n",
       "      <td>-1.15</td>\n",
       "      <td>-0.27</td>\n",
       "      <td>-0.13</td>\n",
       "      <td>-2.55</td>\n",
       "      <td>-2.07</td>\n",
       "      <td>0.29</td>\n",
       "      <td>-3.96</td>\n",
       "      <td>1.13</td>\n",
       "      <td>-0.63</td>\n",
       "    </tr>\n",
       "    <tr>\n",
       "      <th>3</th>\n",
       "      <td>200404</td>\n",
       "      <td>-1.75</td>\n",
       "      <td>1.42</td>\n",
       "      <td>2.30</td>\n",
       "      <td>-0.17</td>\n",
       "      <td>2.52</td>\n",
       "      <td>-4.91</td>\n",
       "      <td>-0.48</td>\n",
       "      <td>-2.70</td>\n",
       "      <td>3.54</td>\n",
       "      <td>-3.55</td>\n",
       "      <td>-3.76</td>\n",
       "    </tr>\n",
       "    <tr>\n",
       "      <th>4</th>\n",
       "      <td>200405</td>\n",
       "      <td>1.23</td>\n",
       "      <td>-1.89</td>\n",
       "      <td>-1.64</td>\n",
       "      <td>1.61</td>\n",
       "      <td>0.39</td>\n",
       "      <td>4.85</td>\n",
       "      <td>-2.95</td>\n",
       "      <td>0.30</td>\n",
       "      <td>-0.42</td>\n",
       "      <td>1.28</td>\n",
       "      <td>1.86</td>\n",
       "    </tr>\n",
       "  </tbody>\n",
       "</table>\n",
       "</div>"
      ],
      "text/plain": [
       "     Date  Market  NoDur  Durbl  Manuf  Enrgy  HiTec  Telcm  Shops  Hlth  \\\n",
       "0  200401    2.22   0.06  -1.07  -0.62   0.44   4.53   1.41   0.45  3.09   \n",
       "1  200402    1.46   4.25  -0.07   1.95   4.69  -2.92  -0.52   6.09  0.89   \n",
       "2  200403   -1.23  -0.09  -1.15  -0.27  -0.13  -2.55  -2.07   0.29 -3.96   \n",
       "3  200404   -1.75   1.42   2.30  -0.17   2.52  -4.91  -0.48  -2.70  3.54   \n",
       "4  200405    1.23  -1.89  -1.64   1.61   0.39   4.85  -2.95   0.30 -0.42   \n",
       "\n",
       "   Utils  Other  \n",
       "0   1.92   2.88  \n",
       "1   2.07   2.16  \n",
       "2   1.13  -0.63  \n",
       "3  -3.55  -3.76  \n",
       "4   1.28   1.86  "
      ]
     },
     "execution_count": 21,
     "metadata": {},
     "output_type": "execute_result"
    }
   ],
   "source": [
    "#combine two df together\n",
    "df = pd.merge(market, industry, on = \"Date\")\n",
    "df.head()"
   ]
  },
  {
   "cell_type": "code",
   "execution_count": 23,
   "id": "951bcbff",
   "metadata": {},
   "outputs": [
    {
     "name": "stdout",
     "output_type": "stream",
     "text": [
      "0.3694428800682017 0.6526473559635404\n"
     ]
    }
   ],
   "source": [
    "#regress market and NoDur\n",
    "\n",
    "#x\n",
    "excess_returns_market = df[\"Market\"] - r_f\n",
    "#y\n",
    "excess_returns_industry = df[\"NoDur\"] - r_f\n",
    "#regress\n",
    "market_data = sm.add_constant(excess_returns_market)\n",
    "model = sm.OLS(excess_returns_industry, market_data).fit()\n",
    "\n",
    "alpha = model.params['const']\n",
    "beta = model.params['Market']\n",
    "print(alpha, beta)"
   ]
  },
  {
   "cell_type": "code",
   "execution_count": 45,
   "id": "7a1ae3c7",
   "metadata": {},
   "outputs": [
    {
     "name": "stderr",
     "output_type": "stream",
     "text": [
      "C:\\Users\\eke\\AppData\\Local\\Temp\\ipykernel_11028\\2361481227.py:15: FutureWarning: The behavior of DataFrame concatenation with empty or all-NA entries is deprecated. In a future version, this will no longer exclude empty or all-NA columns when determining the result dtypes. To retain the old behavior, exclude the relevant entries before the concat operation.\n",
      "  results = pd.concat([results, new_row], ignore_index = True, axis = 0)\n"
     ]
    }
   ],
   "source": [
    "results = pd.DataFrame(columns=['Industry', 'Alpha', 'Beta'])\n",
    "\n",
    "for industry in df.iloc[:, 2:].columns:\n",
    "    #x\n",
    "    excess_returns_market = df[\"Market\"] - r_f\n",
    "    #y\n",
    "    excess_returns_industry = df[industry] - r_f\n",
    "    #regress\n",
    "    market_data = sm.add_constant(excess_returns_market)\n",
    "    model = sm.OLS(excess_returns_industry, market_data).fit()\n",
    "\n",
    "    alpha = model.params['const']\n",
    "    beta = model.params['Market']\n",
    "    new_row = pd.DataFrame({'Industry': [industry], 'Alpha': [alpha], 'Beta': [beta]})\n",
    "    results = pd.concat([results, new_row], ignore_index = True, axis = 0)"
   ]
  },
  {
   "cell_type": "code",
   "execution_count": 44,
   "id": "7e108cf0",
   "metadata": {},
   "outputs": [
    {
     "data": {
      "text/html": [
       "<div>\n",
       "<style scoped>\n",
       "    .dataframe tbody tr th:only-of-type {\n",
       "        vertical-align: middle;\n",
       "    }\n",
       "\n",
       "    .dataframe tbody tr th {\n",
       "        vertical-align: top;\n",
       "    }\n",
       "\n",
       "    .dataframe thead th {\n",
       "        text-align: right;\n",
       "    }\n",
       "</style>\n",
       "<table border=\"1\" class=\"dataframe\">\n",
       "  <thead>\n",
       "    <tr style=\"text-align: right;\">\n",
       "      <th></th>\n",
       "      <th>Industry</th>\n",
       "      <th>Alpha</th>\n",
       "      <th>Beta</th>\n",
       "    </tr>\n",
       "  </thead>\n",
       "  <tbody>\n",
       "    <tr>\n",
       "      <th>0</th>\n",
       "      <td>NoDur</td>\n",
       "      <td>0.369443</td>\n",
       "      <td>0.652647</td>\n",
       "    </tr>\n",
       "    <tr>\n",
       "      <th>1</th>\n",
       "      <td>Durbl</td>\n",
       "      <td>-0.415599</td>\n",
       "      <td>1.648536</td>\n",
       "    </tr>\n",
       "    <tr>\n",
       "      <th>2</th>\n",
       "      <td>Manuf</td>\n",
       "      <td>0.159771</td>\n",
       "      <td>1.169846</td>\n",
       "    </tr>\n",
       "    <tr>\n",
       "      <th>3</th>\n",
       "      <td>Enrgy</td>\n",
       "      <td>0.501719</td>\n",
       "      <td>0.969850</td>\n",
       "    </tr>\n",
       "    <tr>\n",
       "      <th>4</th>\n",
       "      <td>HiTec</td>\n",
       "      <td>-0.064020</td>\n",
       "      <td>1.132969</td>\n",
       "    </tr>\n",
       "    <tr>\n",
       "      <th>5</th>\n",
       "      <td>Telcm</td>\n",
       "      <td>0.194691</td>\n",
       "      <td>0.900729</td>\n",
       "    </tr>\n",
       "    <tr>\n",
       "      <th>6</th>\n",
       "      <td>Shops</td>\n",
       "      <td>0.275492</td>\n",
       "      <td>0.826492</td>\n",
       "    </tr>\n",
       "    <tr>\n",
       "      <th>7</th>\n",
       "      <td>Hlth</td>\n",
       "      <td>0.237841</td>\n",
       "      <td>0.673036</td>\n",
       "    </tr>\n",
       "    <tr>\n",
       "      <th>8</th>\n",
       "      <td>Utils</td>\n",
       "      <td>0.444585</td>\n",
       "      <td>0.538086</td>\n",
       "    </tr>\n",
       "    <tr>\n",
       "      <th>9</th>\n",
       "      <td>Other</td>\n",
       "      <td>-0.387135</td>\n",
       "      <td>1.207309</td>\n",
       "    </tr>\n",
       "  </tbody>\n",
       "</table>\n",
       "</div>"
      ],
      "text/plain": [
       "  Industry     Alpha      Beta\n",
       "0    NoDur  0.369443  0.652647\n",
       "1    Durbl -0.415599  1.648536\n",
       "2    Manuf  0.159771  1.169846\n",
       "3    Enrgy  0.501719  0.969850\n",
       "4    HiTec -0.064020  1.132969\n",
       "5    Telcm  0.194691  0.900729\n",
       "6    Shops  0.275492  0.826492\n",
       "7     Hlth  0.237841  0.673036\n",
       "8    Utils  0.444585  0.538086\n",
       "9    Other -0.387135  1.207309"
      ]
     },
     "execution_count": 44,
     "metadata": {},
     "output_type": "execute_result"
    }
   ],
   "source": [
    "results"
   ]
  },
  {
   "cell_type": "markdown",
   "id": "1be201fe",
   "metadata": {},
   "source": [
    "### 1.2.Briefly explain the economic significance of the intercept and slope coefficients."
   ]
  },
  {
   "cell_type": "markdown",
   "id": "826a81ca",
   "metadata": {},
   "source": [
    ">The intercept coefficient represents the \"pricing error\":\n",
    "\n",
    "* If the intercept is greater than 0, it indicates that the corresponding industry is undervalued.\n",
    "\n",
    "* If the intercept is less than 0, it suggests that the corresponding industry is overvalued.\n",
    "\n",
    ">The slope coefficient provides an estimate of the industry portfolio's beta,\n",
    "beta measures the level of exposure to systematic \"market\" risk."
   ]
  },
  {
   "cell_type": "markdown",
   "id": "e4a010d2",
   "metadata": {},
   "source": [
    "## 2.Security Market Line (SML)\n",
    "\n"
   ]
  },
  {
   "cell_type": "markdown",
   "id": "e548a1c8",
   "metadata": {},
   "source": [
    "### 2.1.Calculate the mean monthly return for each of the ten industry portfolios, as well as the market portfolio."
   ]
  },
  {
   "cell_type": "code",
   "execution_count": 49,
   "id": "89be95f0",
   "metadata": {},
   "outputs": [],
   "source": [
    "mean = pd.DataFrame({\"mean\":df.iloc[:,1:].mean()})"
   ]
  },
  {
   "cell_type": "code",
   "execution_count": 50,
   "id": "57371601",
   "metadata": {},
   "outputs": [
    {
     "data": {
      "text/html": [
       "<div>\n",
       "<style scoped>\n",
       "    .dataframe tbody tr th:only-of-type {\n",
       "        vertical-align: middle;\n",
       "    }\n",
       "\n",
       "    .dataframe tbody tr th {\n",
       "        vertical-align: top;\n",
       "    }\n",
       "\n",
       "    .dataframe thead th {\n",
       "        text-align: right;\n",
       "    }\n",
       "</style>\n",
       "<table border=\"1\" class=\"dataframe\">\n",
       "  <thead>\n",
       "    <tr style=\"text-align: right;\">\n",
       "      <th></th>\n",
       "      <th>mean</th>\n",
       "    </tr>\n",
       "  </thead>\n",
       "  <tbody>\n",
       "    <tr>\n",
       "      <th>Market</th>\n",
       "      <td>0.748083</td>\n",
       "    </tr>\n",
       "    <tr>\n",
       "      <th>NoDur</th>\n",
       "      <td>0.902833</td>\n",
       "    </tr>\n",
       "    <tr>\n",
       "      <th>Durbl</th>\n",
       "      <td>0.733333</td>\n",
       "    </tr>\n",
       "    <tr>\n",
       "      <th>Manuf</th>\n",
       "      <td>1.012833</td>\n",
       "    </tr>\n",
       "    <tr>\n",
       "      <th>Enrgy</th>\n",
       "      <td>1.231167</td>\n",
       "    </tr>\n",
       "    <tr>\n",
       "      <th>HiTec</th>\n",
       "      <td>0.766250</td>\n",
       "    </tr>\n",
       "    <tr>\n",
       "      <th>Telcm</th>\n",
       "      <td>0.881417</td>\n",
       "    </tr>\n",
       "    <tr>\n",
       "      <th>Shops</th>\n",
       "      <td>0.916333</td>\n",
       "    </tr>\n",
       "    <tr>\n",
       "      <th>Hlth</th>\n",
       "      <td>0.783833</td>\n",
       "    </tr>\n",
       "    <tr>\n",
       "      <th>Utils</th>\n",
       "      <td>0.907167</td>\n",
       "    </tr>\n",
       "    <tr>\n",
       "      <th>Other</th>\n",
       "      <td>0.489083</td>\n",
       "    </tr>\n",
       "  </tbody>\n",
       "</table>\n",
       "</div>"
      ],
      "text/plain": [
       "            mean\n",
       "Market  0.748083\n",
       "NoDur   0.902833\n",
       "Durbl   0.733333\n",
       "Manuf   1.012833\n",
       "Enrgy   1.231167\n",
       "HiTec   0.766250\n",
       "Telcm   0.881417\n",
       "Shops   0.916333\n",
       "Hlth    0.783833\n",
       "Utils   0.907167\n",
       "Other   0.489083"
      ]
     },
     "execution_count": 50,
     "metadata": {},
     "output_type": "execute_result"
    }
   ],
   "source": [
    "mean"
   ]
  },
  {
   "cell_type": "markdown",
   "id": "af2e5628",
   "metadata": {},
   "source": [
    "### 2.2.Regress the mean monthly returns of the ten industry portfolios and the market portfolio on the corresponding β's. This will give you the intercept and slope coefficients for the SML. (Warning: the results may be very different from what you would expect!)"
   ]
  },
  {
   "cell_type": "code",
   "execution_count": 58,
   "id": "7c0d0428",
   "metadata": {},
   "outputs": [
    {
     "data": {
      "text/html": [
       "<div>\n",
       "<style scoped>\n",
       "    .dataframe tbody tr th:only-of-type {\n",
       "        vertical-align: middle;\n",
       "    }\n",
       "\n",
       "    .dataframe tbody tr th {\n",
       "        vertical-align: top;\n",
       "    }\n",
       "\n",
       "    .dataframe thead th {\n",
       "        text-align: right;\n",
       "    }\n",
       "</style>\n",
       "<table border=\"1\" class=\"dataframe\">\n",
       "  <thead>\n",
       "    <tr style=\"text-align: right;\">\n",
       "      <th></th>\n",
       "      <th>Beta</th>\n",
       "    </tr>\n",
       "    <tr>\n",
       "      <th>Industry</th>\n",
       "      <th></th>\n",
       "    </tr>\n",
       "  </thead>\n",
       "  <tbody>\n",
       "    <tr>\n",
       "      <th>NoDur</th>\n",
       "      <td>0.652647</td>\n",
       "    </tr>\n",
       "    <tr>\n",
       "      <th>Durbl</th>\n",
       "      <td>1.648536</td>\n",
       "    </tr>\n",
       "    <tr>\n",
       "      <th>Manuf</th>\n",
       "      <td>1.169846</td>\n",
       "    </tr>\n",
       "    <tr>\n",
       "      <th>Enrgy</th>\n",
       "      <td>0.969850</td>\n",
       "    </tr>\n",
       "    <tr>\n",
       "      <th>HiTec</th>\n",
       "      <td>1.132969</td>\n",
       "    </tr>\n",
       "    <tr>\n",
       "      <th>Telcm</th>\n",
       "      <td>0.900729</td>\n",
       "    </tr>\n",
       "    <tr>\n",
       "      <th>Shops</th>\n",
       "      <td>0.826492</td>\n",
       "    </tr>\n",
       "    <tr>\n",
       "      <th>Hlth</th>\n",
       "      <td>0.673036</td>\n",
       "    </tr>\n",
       "    <tr>\n",
       "      <th>Utils</th>\n",
       "      <td>0.538086</td>\n",
       "    </tr>\n",
       "    <tr>\n",
       "      <th>Other</th>\n",
       "      <td>1.207309</td>\n",
       "    </tr>\n",
       "  </tbody>\n",
       "</table>\n",
       "</div>"
      ],
      "text/plain": [
       "              Beta\n",
       "Industry          \n",
       "NoDur     0.652647\n",
       "Durbl     1.648536\n",
       "Manuf     1.169846\n",
       "Enrgy     0.969850\n",
       "HiTec     1.132969\n",
       "Telcm     0.900729\n",
       "Shops     0.826492\n",
       "Hlth      0.673036\n",
       "Utils     0.538086\n",
       "Other     1.207309"
      ]
     },
     "execution_count": 58,
     "metadata": {},
     "output_type": "execute_result"
    }
   ],
   "source": [
    "betas = results.copy()\n",
    "betas.set_index(\"Industry\", inplace = True)\n",
    "betas = betas[[\"Beta\"]]\n",
    "betas"
   ]
  },
  {
   "cell_type": "code",
   "execution_count": 65,
   "id": "df412458",
   "metadata": {},
   "outputs": [
    {
     "data": {
      "text/html": [
       "<div>\n",
       "<style scoped>\n",
       "    .dataframe tbody tr th:only-of-type {\n",
       "        vertical-align: middle;\n",
       "    }\n",
       "\n",
       "    .dataframe tbody tr th {\n",
       "        vertical-align: top;\n",
       "    }\n",
       "\n",
       "    .dataframe thead th {\n",
       "        text-align: right;\n",
       "    }\n",
       "</style>\n",
       "<table border=\"1\" class=\"dataframe\">\n",
       "  <thead>\n",
       "    <tr style=\"text-align: right;\">\n",
       "      <th></th>\n",
       "      <th>mean</th>\n",
       "      <th>Beta</th>\n",
       "    </tr>\n",
       "  </thead>\n",
       "  <tbody>\n",
       "    <tr>\n",
       "      <th>Durbl</th>\n",
       "      <td>0.733333</td>\n",
       "      <td>1.648536</td>\n",
       "    </tr>\n",
       "    <tr>\n",
       "      <th>Enrgy</th>\n",
       "      <td>1.231167</td>\n",
       "      <td>0.969850</td>\n",
       "    </tr>\n",
       "    <tr>\n",
       "      <th>HiTec</th>\n",
       "      <td>0.766250</td>\n",
       "      <td>1.132969</td>\n",
       "    </tr>\n",
       "    <tr>\n",
       "      <th>Hlth</th>\n",
       "      <td>0.783833</td>\n",
       "      <td>0.673036</td>\n",
       "    </tr>\n",
       "    <tr>\n",
       "      <th>Manuf</th>\n",
       "      <td>1.012833</td>\n",
       "      <td>1.169846</td>\n",
       "    </tr>\n",
       "    <tr>\n",
       "      <th>Market</th>\n",
       "      <td>0.748083</td>\n",
       "      <td>1.000000</td>\n",
       "    </tr>\n",
       "    <tr>\n",
       "      <th>NoDur</th>\n",
       "      <td>0.902833</td>\n",
       "      <td>0.652647</td>\n",
       "    </tr>\n",
       "    <tr>\n",
       "      <th>Other</th>\n",
       "      <td>0.489083</td>\n",
       "      <td>1.207309</td>\n",
       "    </tr>\n",
       "    <tr>\n",
       "      <th>Shops</th>\n",
       "      <td>0.916333</td>\n",
       "      <td>0.826492</td>\n",
       "    </tr>\n",
       "    <tr>\n",
       "      <th>Telcm</th>\n",
       "      <td>0.881417</td>\n",
       "      <td>0.900729</td>\n",
       "    </tr>\n",
       "    <tr>\n",
       "      <th>Utils</th>\n",
       "      <td>0.907167</td>\n",
       "      <td>0.538086</td>\n",
       "    </tr>\n",
       "  </tbody>\n",
       "</table>\n",
       "</div>"
      ],
      "text/plain": [
       "            mean      Beta\n",
       "Durbl   0.733333  1.648536\n",
       "Enrgy   1.231167  0.969850\n",
       "HiTec   0.766250  1.132969\n",
       "Hlth    0.783833  0.673036\n",
       "Manuf   1.012833  1.169846\n",
       "Market  0.748083  1.000000\n",
       "NoDur   0.902833  0.652647\n",
       "Other   0.489083  1.207309\n",
       "Shops   0.916333  0.826492\n",
       "Telcm   0.881417  0.900729\n",
       "Utils   0.907167  0.538086"
      ]
     },
     "execution_count": 65,
     "metadata": {},
     "output_type": "execute_result"
    }
   ],
   "source": [
    "regress = pd.merge(mean, betas, left_index=True, right_index = True, how = \"outer\")\n",
    "regress[\"Beta\"][\"Market\"] = 1\n",
    "regress"
   ]
  },
  {
   "cell_type": "code",
   "execution_count": 78,
   "id": "725a3c70",
   "metadata": {},
   "outputs": [
    {
     "name": "stdout",
     "output_type": "stream",
     "text": [
      "The intercept(1.032768368265706) and slope coefficients(-0.1854674583657333) for the SML\n"
     ]
    }
   ],
   "source": [
    "#regress returns and beta\n",
    "#R_p = R_f + (R_m - R_f)*beta_p\n",
    "\n",
    "#regress\n",
    "beta = sm.add_constant(regress[\"Beta\"])\n",
    "model = sm.OLS(regress[\"mean\"], beta).fit()\n",
    "\n",
    "R_f = model.params['const']\n",
    "risk_premium = model.params['Beta']\n",
    "print(f\"The intercept({R_f}) and slope coefficients({risk_premium}) for the SML\")"
   ]
  },
  {
   "cell_type": "markdown",
   "id": "7b0e0370",
   "metadata": {},
   "source": [
    "### 2.3.Use the estimated intercept and slope coefficients for the SML to plot the SML in the range of β from zero to two on the horizontal axis."
   ]
  },
  {
   "cell_type": "code",
   "execution_count": 77,
   "id": "1e205495",
   "metadata": {},
   "outputs": [
    {
     "data": {
      "image/png": "[encoded data removed]",
      "text/plain": [
       "<Figure size 640x480 with 1 Axes>"
      ]
     },
     "metadata": {},
     "output_type": "display_data"
    }
   ],
   "source": [
    "# intercept and slope\n",
    "intercept = R_f\n",
    "slope = risk_premium\n",
    "\n",
    "# create data points\n",
    "x = np.linspace(0, 2, 100) \n",
    "plt.xlim(0,2)\n",
    "y = intercept + slope * x  \n",
    "\n",
    "\n",
    "plt.plot(x, y, color='red', label='SML')  \n",
    "\n",
    "plt.xlabel('Beta')\n",
    "plt.ylabel('Return')\n",
    "\n",
    "\n",
    "plt.legend()\n",
    "\n",
    "plt.show()\n"
   ]
  },
  {
   "cell_type": "markdown",
   "id": "f33ae244",
   "metadata": {},
   "source": [
    "### 2.4.Also plot the positions of the ten industry portfolios and the market portfolio. (You are NOT required to label the individual portfolios.)"
   ]
  },
  {
   "cell_type": "code",
   "execution_count": 74,
   "id": "48352da1",
   "metadata": {},
   "outputs": [
    {
     "data": {
      "text/html": [
       "<div>\n",
       "<style scoped>\n",
       "    .dataframe tbody tr th:only-of-type {\n",
       "        vertical-align: middle;\n",
       "    }\n",
       "\n",
       "    .dataframe tbody tr th {\n",
       "        vertical-align: top;\n",
       "    }\n",
       "\n",
       "    .dataframe thead th {\n",
       "        text-align: right;\n",
       "    }\n",
       "</style>\n",
       "<table border=\"1\" class=\"dataframe\">\n",
       "  <thead>\n",
       "    <tr style=\"text-align: right;\">\n",
       "      <th></th>\n",
       "      <th>mean</th>\n",
       "      <th>Beta</th>\n",
       "    </tr>\n",
       "  </thead>\n",
       "  <tbody>\n",
       "    <tr>\n",
       "      <th>Durbl</th>\n",
       "      <td>0.733333</td>\n",
       "      <td>1.648536</td>\n",
       "    </tr>\n",
       "    <tr>\n",
       "      <th>Enrgy</th>\n",
       "      <td>1.231167</td>\n",
       "      <td>0.969850</td>\n",
       "    </tr>\n",
       "    <tr>\n",
       "      <th>HiTec</th>\n",
       "      <td>0.766250</td>\n",
       "      <td>1.132969</td>\n",
       "    </tr>\n",
       "    <tr>\n",
       "      <th>Hlth</th>\n",
       "      <td>0.783833</td>\n",
       "      <td>0.673036</td>\n",
       "    </tr>\n",
       "    <tr>\n",
       "      <th>Manuf</th>\n",
       "      <td>1.012833</td>\n",
       "      <td>1.169846</td>\n",
       "    </tr>\n",
       "    <tr>\n",
       "      <th>Market</th>\n",
       "      <td>0.748083</td>\n",
       "      <td>1.000000</td>\n",
       "    </tr>\n",
       "    <tr>\n",
       "      <th>NoDur</th>\n",
       "      <td>0.902833</td>\n",
       "      <td>0.652647</td>\n",
       "    </tr>\n",
       "    <tr>\n",
       "      <th>Other</th>\n",
       "      <td>0.489083</td>\n",
       "      <td>1.207309</td>\n",
       "    </tr>\n",
       "    <tr>\n",
       "      <th>Shops</th>\n",
       "      <td>0.916333</td>\n",
       "      <td>0.826492</td>\n",
       "    </tr>\n",
       "    <tr>\n",
       "      <th>Telcm</th>\n",
       "      <td>0.881417</td>\n",
       "      <td>0.900729</td>\n",
       "    </tr>\n",
       "    <tr>\n",
       "      <th>Utils</th>\n",
       "      <td>0.907167</td>\n",
       "      <td>0.538086</td>\n",
       "    </tr>\n",
       "  </tbody>\n",
       "</table>\n",
       "</div>"
      ],
      "text/plain": [
       "            mean      Beta\n",
       "Durbl   0.733333  1.648536\n",
       "Enrgy   1.231167  0.969850\n",
       "HiTec   0.766250  1.132969\n",
       "Hlth    0.783833  0.673036\n",
       "Manuf   1.012833  1.169846\n",
       "Market  0.748083  1.000000\n",
       "NoDur   0.902833  0.652647\n",
       "Other   0.489083  1.207309\n",
       "Shops   0.916333  0.826492\n",
       "Telcm   0.881417  0.900729\n",
       "Utils   0.907167  0.538086"
      ]
     },
     "execution_count": 74,
     "metadata": {},
     "output_type": "execute_result"
    }
   ],
   "source": [
    "regress"
   ]
  },
  {
   "cell_type": "code",
   "execution_count": 76,
   "id": "90a8df3c",
   "metadata": {},
   "outputs": [
    {
     "data": {
      "image/png": "[encoded data removed]",
      "text/plain": [
       "<Figure size 640x480 with 1 Axes>"
      ]
     },
     "metadata": {},
     "output_type": "display_data"
    }
   ],
   "source": [
    "# intercept and slope\n",
    "intercept = R_f\n",
    "slope = risk_premium\n",
    "\n",
    "# create data points\n",
    "x = np.linspace(0, 2, 100)\n",
    "plt.xlim(0,2)\n",
    "y = intercept + slope * x  \n",
    "\n",
    "plt.scatter(regress[\"Beta\"], regress[\"mean\"])\n",
    "plt.plot(x, y, color='red', label='SML')  \n",
    "\n",
    "plt.xlabel('Beta')\n",
    "plt.ylabel('Return')\n",
    "\n",
    "\n",
    "plt.legend()\n",
    "\n",
    "plt.show()"
   ]
  },
  {
   "cell_type": "markdown",
   "id": "f8cbf729",
   "metadata": {},
   "source": [
    "### 2.5.Briefly explain the economic significance of the SML.\n"
   ]
  },
  {
   "cell_type": "markdown",
   "id": "73060cf9",
   "metadata": {},
   "source": [
    "> `SML as CAPM's Visual Representation:` The Security Market Line (SML) graphically illustrates the principles of the Capital Asset Pricing Model (CAPM), which aims to determine the expected returns of assets based on their systematic risk, represented by beta (β).\n",
    "\n",
    ">`Slope of the SML Signifies the Treynor Ratio:` The slope of the SML mirrors the Treynor ratio, providing insight into the return an investor can expect for each unit of systematic risk they assume. A steeper slope implies potentially higher returns for the risk undertaken.\n",
    "\n",
    ">`Assets Above the SML Are Perceived as Underpriced:` When an asset's expected return surpasses the level indicated by the SML, it is considered underpriced. Investors are inclined to purchase such assets, which can drive up their prices until they align with the SML's expected returns for their respective risk levels.\n",
    "\n",
    ">`Assets Below the SML Are Deemed Overpriced:` Conversely, assets with expected returns below the SML are seen as overpriced. In these cases, investors may choose to sell such assets, potentially leading to a decrease in their prices until they converge with the SML's anticipated returns for their associated risk levels.\n",
    "\n",
    ">`Considerations for Real-World Complexity:` In practice, financial markets can be more intricate than the simplified SML-CAPM model suggests. Real-world dynamics, including market sentiment, liquidity, and investor behavior, can introduce complexities. As a result, assets may not always quickly revert to the idealized SML values, causing deviations from expected pricing levels."
   ]
  }
 ],
 "metadata": {
  "kernelspec": {
   "display_name": "Python 3 (ipykernel)",
   "language": "python",
   "name": "python3"
  },
  "language_info": {
   "codemirror_mode": {
    "name": "ipython",
    "version": 3
   },
   "file_extension": ".py",
   "mimetype": "text/x-python",
   "name": "python",
   "nbconvert_exporter": "python",
   "pygments_lexer": "ipython3",
   "version": "3.11.3"
  }
 },
 "nbformat": 4,
 "nbformat_minor": 5
}
