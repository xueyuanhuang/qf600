{
 "cells": [
  {
   "cell_type": "code",
   "execution_count": 1,
   "id": "9c5903de",
   "metadata": {},
   "outputs": [],
   "source": [
    "import pandas as pd\n",
    "import numpy as np\n",
    "import statsmodels.api as sm\n",
    "import matplotlib.pyplot as plt\n",
    "\n",
    "import warnings\n",
    "warnings.filterwarnings(\"ignore\")"
   ]
  },
  {
   "cell_type": "code",
   "execution_count": 6,
   "id": "359bba49",
   "metadata": {},
   "outputs": [
    {
     "data": {
      "text/html": [
       "<div>\n",
       "<style scoped>\n",
       "    .dataframe tbody tr th:only-of-type {\n",
       "        vertical-align: middle;\n",
       "    }\n",
       "\n",
       "    .dataframe tbody tr th {\n",
       "        vertical-align: top;\n",
       "    }\n",
       "\n",
       "    .dataframe thead th {\n",
       "        text-align: right;\n",
       "    }\n",
       "</style>\n",
       "<table border=\"1\" class=\"dataframe\">\n",
       "  <thead>\n",
       "    <tr style=\"text-align: right;\">\n",
       "      <th></th>\n",
       "      <th>Industry</th>\n",
       "      <th>Alpha</th>\n",
       "      <th>Beta</th>\n",
       "    </tr>\n",
       "  </thead>\n",
       "  <tbody>\n",
       "    <tr>\n",
       "      <th>0</th>\n",
       "      <td>Cnsmr</td>\n",
       "      <td>0.016203</td>\n",
       "      <td>0.951955</td>\n",
       "    </tr>\n",
       "    <tr>\n",
       "      <th>1</th>\n",
       "      <td>Manuf</td>\n",
       "      <td>-0.174353</td>\n",
       "      <td>0.958456</td>\n",
       "    </tr>\n",
       "    <tr>\n",
       "      <th>2</th>\n",
       "      <td>HiTec</td>\n",
       "      <td>0.180885</td>\n",
       "      <td>1.040024</td>\n",
       "    </tr>\n",
       "    <tr>\n",
       "      <th>3</th>\n",
       "      <td>Hlth</td>\n",
       "      <td>0.316399</td>\n",
       "      <td>0.782450</td>\n",
       "    </tr>\n",
       "    <tr>\n",
       "      <th>4</th>\n",
       "      <td>Other</td>\n",
       "      <td>-0.037570</td>\n",
       "      <td>1.075347</td>\n",
       "    </tr>\n",
       "  </tbody>\n",
       "</table>\n",
       "</div>"
      ],
      "text/plain": [
       "  Industry     Alpha      Beta\n",
       "0    Cnsmr  0.016203  0.951955\n",
       "1    Manuf -0.174353  0.958456\n",
       "2    HiTec  0.180885  1.040024\n",
       "3    Hlth   0.316399  0.782450\n",
       "4    Other -0.037570  1.075347"
      ]
     },
     "execution_count": 6,
     "metadata": {},
     "output_type": "execute_result"
    }
   ],
   "source": [
    "#part 1\n",
    "#Estimate the intercept coefficient (α) and slope coefficient (β) for each of the ten industry portfolio\n",
    "#\n",
    "#parameters setting\n",
    "filename_industry = \"Exam_Industries.xlsx\"\n",
    "filename_market = \"Exam_Market.xlsx\"\n",
    "r_f = 0\n",
    "\n",
    "#industry = pd.read_csv(filename_industry, index_col=0)\n",
    "industry = pd.read_excel(filename_industry, index_col=0)\n",
    "industry_cols = industry.columns\n",
    "#market = pd.read_csv(filename_market, index_col=0)\n",
    "market = pd.read_excel(filename_market, index_col=0)\n",
    "market_col = market.columns[0]\n",
    "\n",
    "\n",
    "#combine two df together\n",
    "df = pd.merge(market, industry, left_index=True, right_index=True)\n",
    "results = pd.DataFrame(columns=['Industry', 'Alpha', 'Beta'])\n",
    "\n",
    "\n",
    "for industry in industry_cols:\n",
    "    #x\n",
    "    excess_returns_market = df[market_col] - r_f\n",
    "    #y\n",
    "    excess_returns_industry = df[industry] - r_f\n",
    "    #regress\n",
    "    #[(Ri-Rf) = alpha + beta*(Rm-Rf)]\n",
    "    cofficients = np.polyfit(excess_returns_market,excess_returns_industry,deg=1)\n",
    "    beta = cofficients[0] #slope\n",
    "    alpha = cofficients[1] #intercept\n",
    "    \n",
    "    new_row = pd.DataFrame({'Industry': [industry], 'Alpha': [alpha], 'Beta': [beta]})\n",
    "    results = pd.concat([results, new_row], ignore_index = True, axis = 0)\n",
    "results"
   ]
  },
  {
   "cell_type": "code",
   "execution_count": 7,
   "id": "0e1dd098",
   "metadata": {},
   "outputs": [
    {
     "name": "stdout",
     "output_type": "stream",
     "text": [
      "The intercept(0.9410271599518645) and slope coefficients(0.0883235436141288) for the SML\n"
     ]
    },
    {
     "data": {
      "image/png": "[encoded data removed]",
      "text/plain": [
       "<Figure size 640x480 with 1 Axes>"
      ]
     },
     "metadata": {},
     "output_type": "display_data"
    }
   ],
   "source": [
    "#part 2.1\n",
    "#estimated intercept and slope coefficients for the SML\n",
    "#\n",
    "mean = pd.DataFrame({\"mean\":df.mean()})\n",
    "\n",
    "betas = results.copy()\n",
    "betas.set_index(\"Industry\", inplace = True)\n",
    "betas = betas[[\"Beta\"]]\n",
    "\n",
    "regress = pd.merge(mean, betas, left_index=True, right_index = True, how = \"outer\")\n",
    "regress[\"Beta\"][market_col] = 1\n",
    "\n",
    "#regress returns and beta\n",
    "#R_p = R_f + (R_m - R_f)*beta_p\n",
    "#regress\n",
    "cofficients = np.polyfit(regress[\"Beta\"], regress[\"mean\"],deg=1)\n",
    "R_f = cofficients[1]#intercept \n",
    "risk_premium = cofficients[0]#slope \n",
    "print(f\"The intercept({R_f}) and slope coefficients({risk_premium}) for the SML\")\n",
    "\n",
    "\n",
    "#part 2.2 plotting\n",
    "#\n",
    "#\n",
    "#parameters setting\n",
    "x_start = 0\n",
    "x_end = 2\n",
    "\n",
    "xlim_start = 0\n",
    "xlim_end = 2\n",
    "\n",
    "label1 = \"industry portfolios\"\n",
    "label2 = 'SML'\n",
    "\n",
    "xlabel = \"Beta\"\n",
    "ylabel = 'Expected Return(%)'\n",
    "title = \"Security Market Line\"\n",
    "\n",
    "# intercept and slope\n",
    "#R_p = R_f + (R_m - R_f)*beta_p\n",
    "intercept = R_f\n",
    "slope = risk_premium\n",
    "\n",
    "# create data points\n",
    "x = np.linspace(x_start, x_end, 1000)\n",
    "plt.xlim(xlim_start,xlim_end)\n",
    "y = intercept + slope * x  \n",
    "\n",
    "plt.scatter(regress[\"Beta\"], regress[\"mean\"], label=label1)\n",
    "plt.plot(x, y, color='red', label=label2)  \n",
    "\n",
    "plt.xlabel(xlabel)\n",
    "plt.ylabel(ylabel)\n",
    "plt.title(title)\n",
    "\n",
    "plt.legend()\n",
    "\n",
    "plt.show()"
   ]
  },
  {
   "cell_type": "markdown",
   "id": "c4b8a461",
   "metadata": {},
   "source": [
    "# Briefly explain (in words) the economic interpretation for the intercept and slope coefficients of the SML."
   ]
  },
  {
   "cell_type": "markdown",
   "id": "657a71f5",
   "metadata": {},
   "source": [
    "**Intercept coefficient from market model regression shows pricing error relative to CAPM.**\n",
    ">If the intercept coefficient is positive, it suggests that the asset has been earning higher returns than what would be predicted by the CAPM, indicating that the asset might be undervalued. Conversely, a negative intercept implies the asset has been underperforming relative to CAPM expectations, potentially indicating overvaluation.\n",
    "\n",
    "**Slope coefficient from market model regression shows degree of exposure to market risk.**\n",
    ">If the slope coefficient (beta) is greater than 1, it signifies that the asset is more volatile than the overall market. A beta less than 1 suggests that the asset is less volatile than the market. Beta provides valuable information to investors about an asset's sensitivity to market movements, helping them assess and manage risk in their portfolios.\n"
   ]
  },
  {
   "cell_type": "code",
   "execution_count": null,
   "id": "a7bede7f",
   "metadata": {},
   "outputs": [],
   "source": []
  }
 ],
 "metadata": {
  "kernelspec": {
   "display_name": "Python 3 (ipykernel)",
   "language": "python",
   "name": "python3"
  },
  "language_info": {
   "codemirror_mode": {
    "name": "ipython",
    "version": 3
   },
   "file_extension": ".py",
   "mimetype": "text/x-python",
   "name": "python",
   "nbconvert_exporter": "python",
   "pygments_lexer": "ipython3",
   "version": "3.11.3"
  }
 },
 "nbformat": 4,
 "nbformat_minor": 5
}
