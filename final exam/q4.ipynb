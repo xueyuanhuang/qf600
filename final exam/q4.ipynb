{
 "cells": [
  {
   "cell_type": "code",
   "execution_count": 1,
   "id": "6f3a9f49",
   "metadata": {},
   "outputs": [],
   "source": [
    "import pandas as pd\n",
    "import numpy as np\n",
    "import matplotlib.pyplot as plt\n",
    "import warnings\n",
    "warnings.filterwarnings(\"ignore\")"
   ]
  },
  {
   "cell_type": "code",
   "execution_count": 22,
   "id": "6d1ea970",
   "metadata": {},
   "outputs": [],
   "source": [
    "#part 1 \n",
    "#Create a table showing the performance metrics for the ten industry portfolios.\n",
    "#\n",
    "#parameters setting\n",
    "#filename_risk_factors = \"Risk_Factors.xlsx\"\n",
    "filename_industry_portfolios = \"Exam_Industries.xlsx\"\n",
    "filename_market_portfolio = \"Exam_Market.xlsx\"\n",
    "\n",
    "Rm_Rf = \"Rm-Rf\"\n",
    "SMB = \"SMB\"\n",
    "HML = \"HML\"\n",
    "\n",
    "#starting to code\n",
    "#risk_factors = pd.read_excel(filename_risk_factors,index_col=0)\n",
    "industry_portfolios = pd.read_excel(filename_industry_portfolios, index_col=0)\n",
    "market_portfolio = pd.read_excel(filename_market_portfolio, index_col=0)\n",
    "\n",
    "data = pd.merge(market_portfolio, industry_portfolios, left_index=True, right_index=True, how = \"inner\")\n",
    "#data = pd.merge(data, risk_factors, left_index=True, right_index=True, how=\"inner\")"
   ]
  },
  {
   "cell_type": "code",
   "execution_count": 23,
   "id": "7ff7b6d8",
   "metadata": {},
   "outputs": [],
   "source": [
    "#sharpe_ratio E(Ri-Rf)/(var(Ri-Rf))**0.5\n",
    "cols = list(industry_portfolios.columns)\n",
    "metrics = pd.DataFrame(data[cols].apply(lambda x: np.mean(x)/np.std(x)))\n",
    "metrics.columns = [\"sharpe_ratio\"]"
   ]
  },
  {
   "cell_type": "code",
   "execution_count": 24,
   "id": "f714f792",
   "metadata": {},
   "outputs": [
    {
     "data": {
      "text/html": [
       "<div>\n",
       "<style scoped>\n",
       "    .dataframe tbody tr th:only-of-type {\n",
       "        vertical-align: middle;\n",
       "    }\n",
       "\n",
       "    .dataframe tbody tr th {\n",
       "        vertical-align: top;\n",
       "    }\n",
       "\n",
       "    .dataframe thead th {\n",
       "        text-align: right;\n",
       "    }\n",
       "</style>\n",
       "<table border=\"1\" class=\"dataframe\">\n",
       "  <thead>\n",
       "    <tr style=\"text-align: right;\">\n",
       "      <th></th>\n",
       "      <th>sharpe_ratio</th>\n",
       "    </tr>\n",
       "  </thead>\n",
       "  <tbody>\n",
       "    <tr>\n",
       "      <th>Cnsmr</th>\n",
       "      <td>0.216143</td>\n",
       "    </tr>\n",
       "    <tr>\n",
       "      <th>Manuf</th>\n",
       "      <td>0.167535</td>\n",
       "    </tr>\n",
       "    <tr>\n",
       "      <th>HiTec</th>\n",
       "      <td>0.253824</td>\n",
       "    </tr>\n",
       "    <tr>\n",
       "      <th>Hlth</th>\n",
       "      <td>0.257342</td>\n",
       "    </tr>\n",
       "    <tr>\n",
       "      <th>Other</th>\n",
       "      <td>0.205441</td>\n",
       "    </tr>\n",
       "  </tbody>\n",
       "</table>\n",
       "</div>"
      ],
      "text/plain": [
       "       sharpe_ratio\n",
       "Cnsmr      0.216143\n",
       "Manuf      0.167535\n",
       "HiTec      0.253824\n",
       "Hlth       0.257342\n",
       "Other      0.205441"
      ]
     },
     "execution_count": 24,
     "metadata": {},
     "output_type": "execute_result"
    }
   ],
   "source": [
    "metrics"
   ]
  },
  {
   "cell_type": "code",
   "execution_count": 25,
   "id": "0cd5f868",
   "metadata": {},
   "outputs": [],
   "source": [
    "#Trynor ratio E(Ri-Rf)/Beta_i [(Ri-Rf) = alpha + beta*(Rm-Rf)]\n",
    "metrics[\"Trynor_ratio\"] = (\n",
    "    pd.DataFrame(\n",
    "        data[cols]\n",
    "        .apply(lambda y: \n",
    "               np.mean(y)\n",
    "               /\n",
    "               np.polyfit(data[\"Mkt\"], y, deg=1)[0]\n",
    "              )\n",
    "    )\n",
    ")"
   ]
  },
  {
   "cell_type": "code",
   "execution_count": 26,
   "id": "a603d37b",
   "metadata": {},
   "outputs": [
    {
     "data": {
      "text/plain": [
       "Cnsmr    1.025521\n",
       "Manuf    0.826589\n",
       "HiTec    1.182424\n",
       "Hlth     1.412869\n",
       "Other    0.973562\n",
       "Name: Trynor_ratio, dtype: float64"
      ]
     },
     "execution_count": 26,
     "metadata": {},
     "output_type": "execute_result"
    }
   ],
   "source": [
    "metrics[\"Trynor_ratio\"]"
   ]
  },
  {
   "cell_type": "markdown",
   "id": "98c706fe",
   "metadata": {},
   "source": [
    "# Briefly explain (in words) the economic significance of using the information ratio and Sortino ratio to measure the performance of well-diversified portfolios."
   ]
  },
  {
   "cell_type": "markdown",
   "id": "2b8865b6",
   "metadata": {},
   "source": [
    "**Sortino ratio represents risk premium per unit of downside risk, which can distinguish between asymmetric return distributions with same variance but different skewness**\n",
    ">**Focused on Downside Risk**: The Sortino Ratio is a valuable metric for investors because it specifically measures the risk premium earned per unit of downside risk. Unlike the Sharpe Ratio, which considers total risk, the Sortino Ratio concentrates on the potential for losses and unfavorable outcomes. This makes it particularly relevant for risk-averse investors who are more concerned with avoiding losses.\n",
    "\n",
    ">**Distinguishing Asymmetric Returns**: One of the primary economic advantages of the Sortino Ratio is its ability to distinguish between investment opportunities with asymmetric return distributions. It can differentiate between assets that have the same variance but exhibit different skewness in their return distributions. This is crucial because it recognizes that investors are often more concerned about downside risk (losses) than overall risk.\n",
    "\n",
    ">**Risk Management and Portfolio Selection**: The Sortino Ratio is a practical tool for assessing and managing risk in investment portfolios. It helps investors make informed decisions about asset allocation and risk control by emphasizing the importance of minimizing downside risk while seeking to maximize returns.\n",
    "\n",
    ">**Aligning with Investor Preferences**: For investors who are more risk-averse and prioritize capital protection, the Sortino Ratio offers a risk-adjusted performance measure that better aligns with their preferences. It provides a more focused perspective on downside risk, helping them select investments that meet their specific risk tolerance and financial goals."
   ]
  },
  {
   "cell_type": "markdown",
   "id": "91ba8156",
   "metadata": {},
   "source": [
    "The information ratio is a measure used to evaluate the risk-adjusted performance of an investment or a well-diversified portfolio. It assesses how well a portfolio manager generates excess returns relative to a benchmark, considering the level of risk taken.\n",
    "\n",
    "In the context of well-diversified portfolios, the economic significance of using the information ratio lies in its ability to provide insights into the effectiveness of the portfolio management strategy. A positive information ratio indicates that the portfolio is delivering returns above the benchmark, considering the amount of risk taken. This suggests that the portfolio manager is adding value through skillful asset allocation or security selection.\n",
    "\n",
    "Conversely, a negative information ratio may suggest that the portfolio is not outperforming the benchmark on a risk-adjusted basis, indicating potential inefficiencies in the management strategy. This measure is crucial for investors as it helps them assess whether the additional risk taken on by a well-diversified portfolio is justified by the higher returns generated. It provides a more nuanced evaluation than simply looking at raw returns, considering the risk implications of the investment decisions.\n",
    "\n",
    "Overall, the information ratio is economically significant in portfolio management, as it aids investors in making informed decisions about the effectiveness of their investment strategies and whether adjustments are needed to achieve a more favorable risk-return profile."
   ]
  },
  {
   "cell_type": "code",
   "execution_count": null,
   "id": "ee4ec5ff",
   "metadata": {},
   "outputs": [],
   "source": []
  }
 ],
 "metadata": {
  "kernelspec": {
   "display_name": "Python 3 (ipykernel)",
   "language": "python",
   "name": "python3"
  },
  "language_info": {
   "codemirror_mode": {
    "name": "ipython",
    "version": 3
   },
   "file_extension": ".py",
   "mimetype": "text/x-python",
   "name": "python",
   "nbconvert_exporter": "python",
   "pygments_lexer": "ipython3",
   "version": "3.11.3"
  }
 },
 "nbformat": 4,
 "nbformat_minor": 5
}
