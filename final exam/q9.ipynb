{
 "cells": [
  {
   "cell_type": "code",
   "execution_count": 1,
   "id": "359bba49",
   "metadata": {},
   "outputs": [],
   "source": [
    "import numpy as np\n",
    "import pandas as pd"
   ]
  },
  {
   "cell_type": "code",
   "execution_count": 7,
   "id": "d1d88ceb",
   "metadata": {},
   "outputs": [
    {
     "ename": "LinAlgError",
     "evalue": "Last 2 dimensions of the array must be square",
     "output_type": "error",
     "traceback": [
      "\u001b[1;31m---------------------------------------------------------------------------\u001b[0m",
      "\u001b[1;31mLinAlgError\u001b[0m                               Traceback (most recent call last)",
      "Cell \u001b[1;32mIn[7], line 16\u001b[0m\n\u001b[0;32m     13\u001b[0m x2 \u001b[38;5;241m=\u001b[39m pd\u001b[38;5;241m.\u001b[39mDataFrame([[\u001b[38;5;241m1\u001b[39m]\u001b[38;5;241m*\u001b[39m\u001b[38;5;28mlen\u001b[39m(state_A), state_A, state_B])\u001b[38;5;241m.\u001b[39mT\n\u001b[0;32m     14\u001b[0m \u001b[38;5;66;03m################################################################\u001b[39;00m\n\u001b[1;32m---> 16\u001b[0m x2_inv \u001b[38;5;241m=\u001b[39m np\u001b[38;5;241m.\u001b[39mlinalg\u001b[38;5;241m.\u001b[39minv(x2)\n\u001b[0;32m     17\u001b[0m \u001b[38;5;66;03m#vector of state prices\u001b[39;00m\n\u001b[0;32m     18\u001b[0m x3 \u001b[38;5;241m=\u001b[39m x1\u001b[38;5;241m.\u001b[39mdot(x2_inv)\n",
      "File \u001b[1;32m<__array_function__ internals>:200\u001b[0m, in \u001b[0;36minv\u001b[1;34m(*args, **kwargs)\u001b[0m\n",
      "File \u001b[1;32mE:\\software\\anaconda3\\Lib\\site-packages\\numpy\\linalg\\linalg.py:533\u001b[0m, in \u001b[0;36minv\u001b[1;34m(a)\u001b[0m\n\u001b[0;32m    531\u001b[0m a, wrap \u001b[38;5;241m=\u001b[39m _makearray(a)\n\u001b[0;32m    532\u001b[0m _assert_stacked_2d(a)\n\u001b[1;32m--> 533\u001b[0m _assert_stacked_square(a)\n\u001b[0;32m    534\u001b[0m t, result_t \u001b[38;5;241m=\u001b[39m _commonType(a)\n\u001b[0;32m    536\u001b[0m signature \u001b[38;5;241m=\u001b[39m \u001b[38;5;124m'\u001b[39m\u001b[38;5;124mD->D\u001b[39m\u001b[38;5;124m'\u001b[39m \u001b[38;5;28;01mif\u001b[39;00m isComplexType(t) \u001b[38;5;28;01melse\u001b[39;00m \u001b[38;5;124m'\u001b[39m\u001b[38;5;124md->d\u001b[39m\u001b[38;5;124m'\u001b[39m\n",
      "File \u001b[1;32mE:\\software\\anaconda3\\Lib\\site-packages\\numpy\\linalg\\linalg.py:190\u001b[0m, in \u001b[0;36m_assert_stacked_square\u001b[1;34m(*arrays)\u001b[0m\n\u001b[0;32m    188\u001b[0m m, n \u001b[38;5;241m=\u001b[39m a\u001b[38;5;241m.\u001b[39mshape[\u001b[38;5;241m-\u001b[39m\u001b[38;5;241m2\u001b[39m:]\n\u001b[0;32m    189\u001b[0m \u001b[38;5;28;01mif\u001b[39;00m m \u001b[38;5;241m!=\u001b[39m n:\n\u001b[1;32m--> 190\u001b[0m     \u001b[38;5;28;01mraise\u001b[39;00m LinAlgError(\u001b[38;5;124m'\u001b[39m\u001b[38;5;124mLast 2 dimensions of the array must be square\u001b[39m\u001b[38;5;124m'\u001b[39m)\n",
      "\u001b[1;31mLinAlgError\u001b[0m: Last 2 dimensions of the array must be square"
     ]
    }
   ],
   "source": [
    "#more than one stock\n",
    "#prameters setting\n",
    "Rf = 80/70\n",
    "init_A = 70\n",
    "init_B = 70\n",
    "\n",
    "state_A = [100,50]\n",
    "state_B = [80,65]\n",
    "\n",
    "strike_price = 100\n",
    "\n",
    "x1 = np.array([1/Rf, init_A, init_B])\n",
    "x2 = pd.DataFrame([[1]*len(state_A), state_A, state_B]).T\n",
    "################################################################\n",
    "\n",
    "x2_inv = np.linalg.inv(x2)\n",
    "#vector of state prices\n",
    "x3 = x1.dot(x2_inv)\n",
    "#vector of risk-neutral probabilities\n",
    "P_risk_neutral = x3*Rf\n",
    "#payoff vector\n",
    "#call\n",
    "payoff_vector = np.array(np.maximum(np.sum(x2.iloc[:,1:], axis=1) - strike_price,0))\n",
    "call_price = payoff_vector.dot(x3)\n",
    "#put\n",
    "payoff_vector = np.array(np.maximum(strike_price - np.sum(x2.iloc[:,1:], axis=1) ,0))\n",
    "put_price = payoff_vector.dot(x3)"
   ]
  },
  {
   "cell_type": "code",
   "execution_count": null,
   "id": "9a700466",
   "metadata": {},
   "outputs": [],
   "source": []
  }
 ],
 "metadata": {
  "kernelspec": {
   "display_name": "Python 3 (ipykernel)",
   "language": "python",
   "name": "python3"
  },
  "language_info": {
   "codemirror_mode": {
    "name": "ipython",
    "version": 3
   },
   "file_extension": ".py",
   "mimetype": "text/x-python",
   "name": "python",
   "nbconvert_exporter": "python",
   "pygments_lexer": "ipython3",
   "version": "3.11.3"
  }
 },
 "nbformat": 4,
 "nbformat_minor": 5
}
