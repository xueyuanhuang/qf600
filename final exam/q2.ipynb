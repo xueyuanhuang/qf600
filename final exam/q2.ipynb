{
 "cells": [
  {
   "cell_type": "code",
   "execution_count": 1,
   "id": "2e67f70a",
   "metadata": {},
   "outputs": [],
   "source": [
    "import pandas as pd\n",
    "import numpy as np\n",
    "import matplotlib.pyplot as plt\n",
    "\n",
    "import warnings\n",
    "warnings.filterwarnings(\"ignore\")"
   ]
  },
  {
   "cell_type": "code",
   "execution_count": 29,
   "id": "f4e0738b",
   "metadata": {},
   "outputs": [],
   "source": [
    "#part 1 Minmum-Tracing-Error Frontier\n",
    "#\n",
    "#\n",
    "#parameters setting\n",
    "filename_market_portfolio = \"Exam_Market.xlsx\"\n",
    "filename_industry_portfolios = \"Exam_Industries.xlsx\"\n",
    "\n",
    "\n",
    "# df_market_portfolio = pd.read_csv(filename_market_portfolio, index_col=0)\n",
    "# df_industry_portfolios = pd.read_csv(filename_industry_portfolios, index_col=0)\n",
    "df_market_portfolio = pd.read_excel(filename_market_portfolio, index_col=0)\n",
    "df_industry_portfolios = pd.read_excel(filename_industry_portfolios, index_col=0)\n",
    "df = pd.merge(df_market_portfolio,df_industry_portfolios, right_index=True, left_index=True, how = \"inner\")\n",
    "\n",
    "lst_industry_names = list(df_industry_portfolios.columns)\n",
    "df1 = df.copy()\n",
    "\n",
    "market = df_market_portfolio.columns[0]\n",
    "lst_excess_names = []\n",
    "for name in lst_industry_names:\n",
    "    col = name + \"-Rm\"\n",
    "    lst_excess_names.append(col)\n",
    "    df1[col] = df1[name] - df1[market]\n",
    "\n",
    "#Ri = E(Ri-Rm)\n",
    "se_excess_returns = df1[lst_excess_names].apply(np.mean)\n"
   ]
  },
  {
   "cell_type": "code",
   "execution_count": 33,
   "id": "c953c47c",
   "metadata": {},
   "outputs": [
    {
     "data": {
      "text/plain": [
       "0.02163333333333335"
      ]
     },
     "execution_count": 33,
     "metadata": {},
     "output_type": "execute_result"
    }
   ],
   "source": [
    "risk_premium = np.mean(np.sum(df1[lst_excess_names]*0.2, axis=1))\n",
    "risk_premium"
   ]
  },
  {
   "cell_type": "code",
   "execution_count": 36,
   "id": "bdbca1f0",
   "metadata": {},
   "outputs": [
    {
     "data": {
      "text/plain": [
       "0.41253621928531586"
      ]
     },
     "execution_count": 36,
     "metadata": {},
     "output_type": "execute_result"
    }
   ],
   "source": [
    "standard_deviation_excess_return = np.std(np.sum(df1[lst_excess_names]*0.2, axis=1))\n",
    "standard_deviation_excess_return"
   ]
  },
  {
   "cell_type": "code",
   "execution_count": null,
   "id": "2aa7df7f",
   "metadata": {},
   "outputs": [],
   "source": [
    "import numpy as np\n",
    "import pandas as pd\n",
    "\n",
    "filename = \"\"\n",
    "ret = pd.read_excel(filename, index_col=0)\n",
    "\n",
    "w_m = np.array([0.2]*5)\n",
    "lamb = 2\n",
    "\n",
    "pi = lamb*w_m.dot(ret.cov())\n",
    "pi"
   ]
  },
  {
   "cell_type": "markdown",
   "id": "9af41ac0",
   "metadata": {},
   "source": [
    "# describe three (3) features of the Black–Litterman model that are not found in the basic model of the efficient frontier."
   ]
  },
  {
   "cell_type": "markdown",
   "id": "04bc7332",
   "metadata": {},
   "source": [
    "\n",
    "### solution\n",
    ">**Implied Sample Risk Premiums**: The Black-Litterman model addresses these challenges by using the observed weights of risky assets in the market portfolio to determine implied sample risk premiums. This approach helps in deriving more robust estimates of expected returns, considering the market's collective wisdom.\n",
    "\n",
    ">**Calibration of λ**: The model introduces a parameter (λ) that needs to be calibrated. This is often done using market risk premiums or Sharpe ratios, providing a mechanism to balance the impact of views against the implied market expectations.\n",
    "\n",
    "### strength\n",
    ">**Incorporating Investor's Views**: One unique feature of the Black-Litterman model is its ability to incorporate investor views on expected returns. These views can be expressed as absolute expectations or relative expectations between assets. This inclusion allows investors to integrate their subjective beliefs into the optimization process.\n",
    "\n",
    ">**Bayesian Framework**: The model uses Bayes' theorem to systematically incorporate investor views into the distribution of excess returns. This Bayesian approach combines the market equilibrium implied returns with the investor's views, resulting in a blended expected return distribution.\n",
    "\n",
    ">**Enhanced Portfolio Construction**: By addressing the challenges in estimating mean returns and incorporating investor views, the Black-Litterman model offers a more robust and practical framework for portfolio construction. It provides a structured way to leverage both market equilibrium and investor insights, leading to portfolios that better reflect the investor's risk-return preferences."
   ]
  },
  {
   "cell_type": "code",
   "execution_count": null,
   "id": "a1f05da9",
   "metadata": {},
   "outputs": [],
   "source": []
  }
 ],
 "metadata": {
  "kernelspec": {
   "display_name": "Python 3 (ipykernel)",
   "language": "python",
   "name": "python3"
  },
  "language_info": {
   "codemirror_mode": {
    "name": "ipython",
    "version": 3
   },
   "file_extension": ".py",
   "mimetype": "text/x-python",
   "name": "python",
   "nbconvert_exporter": "python",
   "pygments_lexer": "ipython3",
   "version": "3.11.3"
  }
 },
 "nbformat": 4,
 "nbformat_minor": 5
}
