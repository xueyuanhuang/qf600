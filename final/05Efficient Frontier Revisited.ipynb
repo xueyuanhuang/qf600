{
 "cells": [
  {
   "cell_type": "code",
   "execution_count": 1,
   "id": "a734acd6",
   "metadata": {},
   "outputs": [],
   "source": [
    "import pandas as pd\n",
    "import numpy as np\n",
    "import matplotlib.pyplot as plt"
   ]
  },
  {
   "attachments": {
    "image.png": {
     "image/png": "[encoded data removed]"
    }
   },
   "cell_type": "markdown",
   "id": "bacaa747",
   "metadata": {},
   "source": [
    "# 1.Part 1: Minimum-Tracking-Error Frontier\n",
    "\n",
    "Let the market return be the target return. Estimate the expected deviation from market return, for the ten industry portfolios:\n",
    "![image.png](attachment:image.png)"
   ]
  },
  {
   "cell_type": "code",
   "execution_count": 2,
   "id": "66b5a991",
   "metadata": {},
   "outputs": [
    {
     "name": "stderr",
     "output_type": "stream",
     "text": [
      "E:\\software\\anaconda3\\Lib\\site-packages\\openpyxl\\worksheet\\_read_only.py:79: UserWarning: Unknown extension is not supported and will be removed\n",
      "  for idx, row in parser.parse():\n"
     ]
    },
    {
     "data": {
      "text/html": [
       "<div>\n",
       "<style scoped>\n",
       "    .dataframe tbody tr th:only-of-type {\n",
       "        vertical-align: middle;\n",
       "    }\n",
       "\n",
       "    .dataframe tbody tr th {\n",
       "        vertical-align: top;\n",
       "    }\n",
       "\n",
       "    .dataframe thead th {\n",
       "        text-align: right;\n",
       "    }\n",
       "</style>\n",
       "<table border=\"1\" class=\"dataframe\">\n",
       "  <thead>\n",
       "    <tr style=\"text-align: right;\">\n",
       "      <th></th>\n",
       "      <th>Market</th>\n",
       "    </tr>\n",
       "    <tr>\n",
       "      <th>Date</th>\n",
       "      <th></th>\n",
       "    </tr>\n",
       "  </thead>\n",
       "  <tbody>\n",
       "    <tr>\n",
       "      <th>200401</th>\n",
       "      <td>2.22</td>\n",
       "    </tr>\n",
       "    <tr>\n",
       "      <th>200402</th>\n",
       "      <td>1.46</td>\n",
       "    </tr>\n",
       "    <tr>\n",
       "      <th>200403</th>\n",
       "      <td>-1.23</td>\n",
       "    </tr>\n",
       "    <tr>\n",
       "      <th>200404</th>\n",
       "      <td>-1.75</td>\n",
       "    </tr>\n",
       "    <tr>\n",
       "      <th>200405</th>\n",
       "      <td>1.23</td>\n",
       "    </tr>\n",
       "  </tbody>\n",
       "</table>\n",
       "</div>"
      ],
      "text/plain": [
       "        Market\n",
       "Date          \n",
       "200401    2.22\n",
       "200402    1.46\n",
       "200403   -1.23\n",
       "200404   -1.75\n",
       "200405    1.23"
      ]
     },
     "execution_count": 2,
     "metadata": {},
     "output_type": "execute_result"
    }
   ],
   "source": [
    "df_market_portfolio = pd.read_excel(\"Market_Portfolio.xlsx\", index_col=\"Date\")\n",
    "df_market_portfolio.head()"
   ]
  },
  {
   "cell_type": "code",
   "execution_count": 3,
   "id": "fff6236d",
   "metadata": {},
   "outputs": [
    {
     "name": "stderr",
     "output_type": "stream",
     "text": [
      "E:\\software\\anaconda3\\Lib\\site-packages\\openpyxl\\worksheet\\_read_only.py:79: UserWarning: Unknown extension is not supported and will be removed\n",
      "  for idx, row in parser.parse():\n"
     ]
    },
    {
     "data": {
      "text/html": [
       "<div>\n",
       "<style scoped>\n",
       "    .dataframe tbody tr th:only-of-type {\n",
       "        vertical-align: middle;\n",
       "    }\n",
       "\n",
       "    .dataframe tbody tr th {\n",
       "        vertical-align: top;\n",
       "    }\n",
       "\n",
       "    .dataframe thead th {\n",
       "        text-align: right;\n",
       "    }\n",
       "</style>\n",
       "<table border=\"1\" class=\"dataframe\">\n",
       "  <thead>\n",
       "    <tr style=\"text-align: right;\">\n",
       "      <th></th>\n",
       "      <th>NoDur</th>\n",
       "      <th>Durbl</th>\n",
       "      <th>Manuf</th>\n",
       "      <th>Enrgy</th>\n",
       "      <th>HiTec</th>\n",
       "      <th>Telcm</th>\n",
       "      <th>Shops</th>\n",
       "      <th>Hlth</th>\n",
       "      <th>Utils</th>\n",
       "      <th>Other</th>\n",
       "    </tr>\n",
       "    <tr>\n",
       "      <th>Date</th>\n",
       "      <th></th>\n",
       "      <th></th>\n",
       "      <th></th>\n",
       "      <th></th>\n",
       "      <th></th>\n",
       "      <th></th>\n",
       "      <th></th>\n",
       "      <th></th>\n",
       "      <th></th>\n",
       "      <th></th>\n",
       "    </tr>\n",
       "  </thead>\n",
       "  <tbody>\n",
       "    <tr>\n",
       "      <th>200401</th>\n",
       "      <td>0.06</td>\n",
       "      <td>-1.07</td>\n",
       "      <td>-0.62</td>\n",
       "      <td>0.44</td>\n",
       "      <td>4.53</td>\n",
       "      <td>1.41</td>\n",
       "      <td>0.45</td>\n",
       "      <td>3.09</td>\n",
       "      <td>1.92</td>\n",
       "      <td>2.88</td>\n",
       "    </tr>\n",
       "    <tr>\n",
       "      <th>200402</th>\n",
       "      <td>4.25</td>\n",
       "      <td>-0.07</td>\n",
       "      <td>1.95</td>\n",
       "      <td>4.69</td>\n",
       "      <td>-2.92</td>\n",
       "      <td>-0.52</td>\n",
       "      <td>6.09</td>\n",
       "      <td>0.89</td>\n",
       "      <td>2.07</td>\n",
       "      <td>2.16</td>\n",
       "    </tr>\n",
       "    <tr>\n",
       "      <th>200403</th>\n",
       "      <td>-0.09</td>\n",
       "      <td>-1.15</td>\n",
       "      <td>-0.27</td>\n",
       "      <td>-0.13</td>\n",
       "      <td>-2.55</td>\n",
       "      <td>-2.07</td>\n",
       "      <td>0.29</td>\n",
       "      <td>-3.96</td>\n",
       "      <td>1.13</td>\n",
       "      <td>-0.63</td>\n",
       "    </tr>\n",
       "    <tr>\n",
       "      <th>200404</th>\n",
       "      <td>1.42</td>\n",
       "      <td>2.30</td>\n",
       "      <td>-0.17</td>\n",
       "      <td>2.52</td>\n",
       "      <td>-4.91</td>\n",
       "      <td>-0.48</td>\n",
       "      <td>-2.70</td>\n",
       "      <td>3.54</td>\n",
       "      <td>-3.55</td>\n",
       "      <td>-3.76</td>\n",
       "    </tr>\n",
       "    <tr>\n",
       "      <th>200405</th>\n",
       "      <td>-1.89</td>\n",
       "      <td>-1.64</td>\n",
       "      <td>1.61</td>\n",
       "      <td>0.39</td>\n",
       "      <td>4.85</td>\n",
       "      <td>-2.95</td>\n",
       "      <td>0.30</td>\n",
       "      <td>-0.42</td>\n",
       "      <td>1.28</td>\n",
       "      <td>1.86</td>\n",
       "    </tr>\n",
       "  </tbody>\n",
       "</table>\n",
       "</div>"
      ],
      "text/plain": [
       "        NoDur  Durbl  Manuf  Enrgy  HiTec  Telcm  Shops  Hlth  Utils  Other\n",
       "Date                                                                       \n",
       "200401   0.06  -1.07  -0.62   0.44   4.53   1.41   0.45  3.09   1.92   2.88\n",
       "200402   4.25  -0.07   1.95   4.69  -2.92  -0.52   6.09  0.89   2.07   2.16\n",
       "200403  -0.09  -1.15  -0.27  -0.13  -2.55  -2.07   0.29 -3.96   1.13  -0.63\n",
       "200404   1.42   2.30  -0.17   2.52  -4.91  -0.48  -2.70  3.54  -3.55  -3.76\n",
       "200405  -1.89  -1.64   1.61   0.39   4.85  -2.95   0.30 -0.42   1.28   1.86"
      ]
     },
     "execution_count": 3,
     "metadata": {},
     "output_type": "execute_result"
    }
   ],
   "source": [
    "df_industry_portfolios = pd.read_excel(\"Industry_Portfolios.xlsx\", index_col=\"Date\")\n",
    "df_industry_portfolios.head()"
   ]
  },
  {
   "cell_type": "code",
   "execution_count": 4,
   "id": "8860d8c1",
   "metadata": {},
   "outputs": [
    {
     "data": {
      "text/html": [
       "<div>\n",
       "<style scoped>\n",
       "    .dataframe tbody tr th:only-of-type {\n",
       "        vertical-align: middle;\n",
       "    }\n",
       "\n",
       "    .dataframe tbody tr th {\n",
       "        vertical-align: top;\n",
       "    }\n",
       "\n",
       "    .dataframe thead th {\n",
       "        text-align: right;\n",
       "    }\n",
       "</style>\n",
       "<table border=\"1\" class=\"dataframe\">\n",
       "  <thead>\n",
       "    <tr style=\"text-align: right;\">\n",
       "      <th></th>\n",
       "      <th>NoDur</th>\n",
       "      <th>Durbl</th>\n",
       "      <th>Manuf</th>\n",
       "      <th>Enrgy</th>\n",
       "      <th>HiTec</th>\n",
       "      <th>Telcm</th>\n",
       "      <th>Shops</th>\n",
       "      <th>Hlth</th>\n",
       "      <th>Utils</th>\n",
       "      <th>Other</th>\n",
       "      <th>Market</th>\n",
       "    </tr>\n",
       "    <tr>\n",
       "      <th>Date</th>\n",
       "      <th></th>\n",
       "      <th></th>\n",
       "      <th></th>\n",
       "      <th></th>\n",
       "      <th></th>\n",
       "      <th></th>\n",
       "      <th></th>\n",
       "      <th></th>\n",
       "      <th></th>\n",
       "      <th></th>\n",
       "      <th></th>\n",
       "    </tr>\n",
       "  </thead>\n",
       "  <tbody>\n",
       "    <tr>\n",
       "      <th>200401</th>\n",
       "      <td>0.06</td>\n",
       "      <td>-1.07</td>\n",
       "      <td>-0.62</td>\n",
       "      <td>0.44</td>\n",
       "      <td>4.53</td>\n",
       "      <td>1.41</td>\n",
       "      <td>0.45</td>\n",
       "      <td>3.09</td>\n",
       "      <td>1.92</td>\n",
       "      <td>2.88</td>\n",
       "      <td>2.22</td>\n",
       "    </tr>\n",
       "    <tr>\n",
       "      <th>200402</th>\n",
       "      <td>4.25</td>\n",
       "      <td>-0.07</td>\n",
       "      <td>1.95</td>\n",
       "      <td>4.69</td>\n",
       "      <td>-2.92</td>\n",
       "      <td>-0.52</td>\n",
       "      <td>6.09</td>\n",
       "      <td>0.89</td>\n",
       "      <td>2.07</td>\n",
       "      <td>2.16</td>\n",
       "      <td>1.46</td>\n",
       "    </tr>\n",
       "    <tr>\n",
       "      <th>200403</th>\n",
       "      <td>-0.09</td>\n",
       "      <td>-1.15</td>\n",
       "      <td>-0.27</td>\n",
       "      <td>-0.13</td>\n",
       "      <td>-2.55</td>\n",
       "      <td>-2.07</td>\n",
       "      <td>0.29</td>\n",
       "      <td>-3.96</td>\n",
       "      <td>1.13</td>\n",
       "      <td>-0.63</td>\n",
       "      <td>-1.23</td>\n",
       "    </tr>\n",
       "    <tr>\n",
       "      <th>200404</th>\n",
       "      <td>1.42</td>\n",
       "      <td>2.30</td>\n",
       "      <td>-0.17</td>\n",
       "      <td>2.52</td>\n",
       "      <td>-4.91</td>\n",
       "      <td>-0.48</td>\n",
       "      <td>-2.70</td>\n",
       "      <td>3.54</td>\n",
       "      <td>-3.55</td>\n",
       "      <td>-3.76</td>\n",
       "      <td>-1.75</td>\n",
       "    </tr>\n",
       "    <tr>\n",
       "      <th>200405</th>\n",
       "      <td>-1.89</td>\n",
       "      <td>-1.64</td>\n",
       "      <td>1.61</td>\n",
       "      <td>0.39</td>\n",
       "      <td>4.85</td>\n",
       "      <td>-2.95</td>\n",
       "      <td>0.30</td>\n",
       "      <td>-0.42</td>\n",
       "      <td>1.28</td>\n",
       "      <td>1.86</td>\n",
       "      <td>1.23</td>\n",
       "    </tr>\n",
       "  </tbody>\n",
       "</table>\n",
       "</div>"
      ],
      "text/plain": [
       "        NoDur  Durbl  Manuf  Enrgy  HiTec  Telcm  Shops  Hlth  Utils  Other  \\\n",
       "Date                                                                          \n",
       "200401   0.06  -1.07  -0.62   0.44   4.53   1.41   0.45  3.09   1.92   2.88   \n",
       "200402   4.25  -0.07   1.95   4.69  -2.92  -0.52   6.09  0.89   2.07   2.16   \n",
       "200403  -0.09  -1.15  -0.27  -0.13  -2.55  -2.07   0.29 -3.96   1.13  -0.63   \n",
       "200404   1.42   2.30  -0.17   2.52  -4.91  -0.48  -2.70  3.54  -3.55  -3.76   \n",
       "200405  -1.89  -1.64   1.61   0.39   4.85  -2.95   0.30 -0.42   1.28   1.86   \n",
       "\n",
       "        Market  \n",
       "Date            \n",
       "200401    2.22  \n",
       "200402    1.46  \n",
       "200403   -1.23  \n",
       "200404   -1.75  \n",
       "200405    1.23  "
      ]
     },
     "execution_count": 4,
     "metadata": {},
     "output_type": "execute_result"
    }
   ],
   "source": [
    "df = pd.merge(df_industry_portfolios, df_market_portfolio, right_index=True, left_index=True, how = \"inner\")\n",
    "df.head()"
   ]
  },
  {
   "cell_type": "code",
   "execution_count": 5,
   "id": "6ee2913e",
   "metadata": {},
   "outputs": [
    {
     "data": {
      "text/html": [
       "<div>\n",
       "<style scoped>\n",
       "    .dataframe tbody tr th:only-of-type {\n",
       "        vertical-align: middle;\n",
       "    }\n",
       "\n",
       "    .dataframe tbody tr th {\n",
       "        vertical-align: top;\n",
       "    }\n",
       "\n",
       "    .dataframe thead th {\n",
       "        text-align: right;\n",
       "    }\n",
       "</style>\n",
       "<table border=\"1\" class=\"dataframe\">\n",
       "  <thead>\n",
       "    <tr style=\"text-align: right;\">\n",
       "      <th></th>\n",
       "      <th>NoDur</th>\n",
       "      <th>Durbl</th>\n",
       "      <th>Manuf</th>\n",
       "      <th>Enrgy</th>\n",
       "      <th>HiTec</th>\n",
       "      <th>Telcm</th>\n",
       "      <th>Shops</th>\n",
       "      <th>Hlth</th>\n",
       "      <th>Utils</th>\n",
       "      <th>Other</th>\n",
       "      <th>...</th>\n",
       "      <th>NoDur-Rm</th>\n",
       "      <th>Durbl-Rm</th>\n",
       "      <th>Manuf-Rm</th>\n",
       "      <th>Enrgy-Rm</th>\n",
       "      <th>HiTec-Rm</th>\n",
       "      <th>Telcm-Rm</th>\n",
       "      <th>Shops-Rm</th>\n",
       "      <th>Hlth-Rm</th>\n",
       "      <th>Utils-Rm</th>\n",
       "      <th>Other-Rm</th>\n",
       "    </tr>\n",
       "    <tr>\n",
       "      <th>Date</th>\n",
       "      <th></th>\n",
       "      <th></th>\n",
       "      <th></th>\n",
       "      <th></th>\n",
       "      <th></th>\n",
       "      <th></th>\n",
       "      <th></th>\n",
       "      <th></th>\n",
       "      <th></th>\n",
       "      <th></th>\n",
       "      <th></th>\n",
       "      <th></th>\n",
       "      <th></th>\n",
       "      <th></th>\n",
       "      <th></th>\n",
       "      <th></th>\n",
       "      <th></th>\n",
       "      <th></th>\n",
       "      <th></th>\n",
       "      <th></th>\n",
       "      <th></th>\n",
       "    </tr>\n",
       "  </thead>\n",
       "  <tbody>\n",
       "    <tr>\n",
       "      <th>200401</th>\n",
       "      <td>0.06</td>\n",
       "      <td>-1.07</td>\n",
       "      <td>-0.62</td>\n",
       "      <td>0.44</td>\n",
       "      <td>4.53</td>\n",
       "      <td>1.41</td>\n",
       "      <td>0.45</td>\n",
       "      <td>3.09</td>\n",
       "      <td>1.92</td>\n",
       "      <td>2.88</td>\n",
       "      <td>...</td>\n",
       "      <td>-2.16</td>\n",
       "      <td>-3.29</td>\n",
       "      <td>-2.84</td>\n",
       "      <td>-1.78</td>\n",
       "      <td>2.31</td>\n",
       "      <td>-0.81</td>\n",
       "      <td>-1.77</td>\n",
       "      <td>0.87</td>\n",
       "      <td>-0.30</td>\n",
       "      <td>0.66</td>\n",
       "    </tr>\n",
       "    <tr>\n",
       "      <th>200402</th>\n",
       "      <td>4.25</td>\n",
       "      <td>-0.07</td>\n",
       "      <td>1.95</td>\n",
       "      <td>4.69</td>\n",
       "      <td>-2.92</td>\n",
       "      <td>-0.52</td>\n",
       "      <td>6.09</td>\n",
       "      <td>0.89</td>\n",
       "      <td>2.07</td>\n",
       "      <td>2.16</td>\n",
       "      <td>...</td>\n",
       "      <td>2.79</td>\n",
       "      <td>-1.53</td>\n",
       "      <td>0.49</td>\n",
       "      <td>3.23</td>\n",
       "      <td>-4.38</td>\n",
       "      <td>-1.98</td>\n",
       "      <td>4.63</td>\n",
       "      <td>-0.57</td>\n",
       "      <td>0.61</td>\n",
       "      <td>0.70</td>\n",
       "    </tr>\n",
       "    <tr>\n",
       "      <th>200403</th>\n",
       "      <td>-0.09</td>\n",
       "      <td>-1.15</td>\n",
       "      <td>-0.27</td>\n",
       "      <td>-0.13</td>\n",
       "      <td>-2.55</td>\n",
       "      <td>-2.07</td>\n",
       "      <td>0.29</td>\n",
       "      <td>-3.96</td>\n",
       "      <td>1.13</td>\n",
       "      <td>-0.63</td>\n",
       "      <td>...</td>\n",
       "      <td>1.14</td>\n",
       "      <td>0.08</td>\n",
       "      <td>0.96</td>\n",
       "      <td>1.10</td>\n",
       "      <td>-1.32</td>\n",
       "      <td>-0.84</td>\n",
       "      <td>1.52</td>\n",
       "      <td>-2.73</td>\n",
       "      <td>2.36</td>\n",
       "      <td>0.60</td>\n",
       "    </tr>\n",
       "    <tr>\n",
       "      <th>200404</th>\n",
       "      <td>1.42</td>\n",
       "      <td>2.30</td>\n",
       "      <td>-0.17</td>\n",
       "      <td>2.52</td>\n",
       "      <td>-4.91</td>\n",
       "      <td>-0.48</td>\n",
       "      <td>-2.70</td>\n",
       "      <td>3.54</td>\n",
       "      <td>-3.55</td>\n",
       "      <td>-3.76</td>\n",
       "      <td>...</td>\n",
       "      <td>3.17</td>\n",
       "      <td>4.05</td>\n",
       "      <td>1.58</td>\n",
       "      <td>4.27</td>\n",
       "      <td>-3.16</td>\n",
       "      <td>1.27</td>\n",
       "      <td>-0.95</td>\n",
       "      <td>5.29</td>\n",
       "      <td>-1.80</td>\n",
       "      <td>-2.01</td>\n",
       "    </tr>\n",
       "    <tr>\n",
       "      <th>200405</th>\n",
       "      <td>-1.89</td>\n",
       "      <td>-1.64</td>\n",
       "      <td>1.61</td>\n",
       "      <td>0.39</td>\n",
       "      <td>4.85</td>\n",
       "      <td>-2.95</td>\n",
       "      <td>0.30</td>\n",
       "      <td>-0.42</td>\n",
       "      <td>1.28</td>\n",
       "      <td>1.86</td>\n",
       "      <td>...</td>\n",
       "      <td>-3.12</td>\n",
       "      <td>-2.87</td>\n",
       "      <td>0.38</td>\n",
       "      <td>-0.84</td>\n",
       "      <td>3.62</td>\n",
       "      <td>-4.18</td>\n",
       "      <td>-0.93</td>\n",
       "      <td>-1.65</td>\n",
       "      <td>0.05</td>\n",
       "      <td>0.63</td>\n",
       "    </tr>\n",
       "  </tbody>\n",
       "</table>\n",
       "<p>5 rows × 21 columns</p>\n",
       "</div>"
      ],
      "text/plain": [
       "        NoDur  Durbl  Manuf  Enrgy  HiTec  Telcm  Shops  Hlth  Utils  Other  \\\n",
       "Date                                                                          \n",
       "200401   0.06  -1.07  -0.62   0.44   4.53   1.41   0.45  3.09   1.92   2.88   \n",
       "200402   4.25  -0.07   1.95   4.69  -2.92  -0.52   6.09  0.89   2.07   2.16   \n",
       "200403  -0.09  -1.15  -0.27  -0.13  -2.55  -2.07   0.29 -3.96   1.13  -0.63   \n",
       "200404   1.42   2.30  -0.17   2.52  -4.91  -0.48  -2.70  3.54  -3.55  -3.76   \n",
       "200405  -1.89  -1.64   1.61   0.39   4.85  -2.95   0.30 -0.42   1.28   1.86   \n",
       "\n",
       "        ...  NoDur-Rm  Durbl-Rm  Manuf-Rm  Enrgy-Rm  HiTec-Rm  Telcm-Rm  \\\n",
       "Date    ...                                                               \n",
       "200401  ...     -2.16     -3.29     -2.84     -1.78      2.31     -0.81   \n",
       "200402  ...      2.79     -1.53      0.49      3.23     -4.38     -1.98   \n",
       "200403  ...      1.14      0.08      0.96      1.10     -1.32     -0.84   \n",
       "200404  ...      3.17      4.05      1.58      4.27     -3.16      1.27   \n",
       "200405  ...     -3.12     -2.87      0.38     -0.84      3.62     -4.18   \n",
       "\n",
       "        Shops-Rm  Hlth-Rm  Utils-Rm  Other-Rm  \n",
       "Date                                           \n",
       "200401     -1.77     0.87     -0.30      0.66  \n",
       "200402      4.63    -0.57      0.61      0.70  \n",
       "200403      1.52    -2.73      2.36      0.60  \n",
       "200404     -0.95     5.29     -1.80     -2.01  \n",
       "200405     -0.93    -1.65      0.05      0.63  \n",
       "\n",
       "[5 rows x 21 columns]"
      ]
     },
     "execution_count": 5,
     "metadata": {},
     "output_type": "execute_result"
    }
   ],
   "source": [
    "lst_industry_names = list(df_industry_portfolios.columns)\n",
    "df1 = df.copy()\n",
    "\n",
    "lst_excess_names = []\n",
    "for name in lst_industry_names:\n",
    "    col = name + \"-Rm\"\n",
    "    lst_excess_names.append(col)\n",
    "    df1[col] = df1[name] - df1[\"Market\"]\n",
    "df1.head()\n",
    "#lst_excess_names"
   ]
  },
  {
   "cell_type": "code",
   "execution_count": 6,
   "id": "43b3c21b",
   "metadata": {},
   "outputs": [
    {
     "data": {
      "text/plain": [
       "NoDur-Rm    0.154750\n",
       "Durbl-Rm   -0.014750\n",
       "Manuf-Rm    0.264750\n",
       "Enrgy-Rm    0.483083\n",
       "HiTec-Rm    0.018167\n",
       "Telcm-Rm    0.133333\n",
       "Shops-Rm    0.168250\n",
       "Hlth-Rm     0.035750\n",
       "Utils-Rm    0.159083\n",
       "Other-Rm   -0.259000\n",
       "dtype: float64"
      ]
     },
     "execution_count": 6,
     "metadata": {},
     "output_type": "execute_result"
    }
   ],
   "source": [
    "#Ri = E(Ri-Rm)\n",
    "se_excess_returns = df1[lst_excess_names].apply(np.mean)\n",
    "se_excess_returns"
   ]
  },
  {
   "attachments": {
    "image-3.png": {
     "image/png": "[encoded data removed]"
    }
   },
   "cell_type": "markdown",
   "id": "ad732a83",
   "metadata": {},
   "source": [
    "\n",
    "Also estimate the covariance matrix of return deviations, for the ten industry portfolios:\n",
    "![image-3.png](attachment:image-3.png)"
   ]
  },
  {
   "cell_type": "code",
   "execution_count": 7,
   "id": "5829c635",
   "metadata": {},
   "outputs": [
    {
     "data": {
      "text/html": [
       "<div>\n",
       "<style scoped>\n",
       "    .dataframe tbody tr th:only-of-type {\n",
       "        vertical-align: middle;\n",
       "    }\n",
       "\n",
       "    .dataframe tbody tr th {\n",
       "        vertical-align: top;\n",
       "    }\n",
       "\n",
       "    .dataframe thead th {\n",
       "        text-align: right;\n",
       "    }\n",
       "</style>\n",
       "<table border=\"1\" class=\"dataframe\">\n",
       "  <thead>\n",
       "    <tr style=\"text-align: right;\">\n",
       "      <th></th>\n",
       "      <th>NoDur-Rm</th>\n",
       "      <th>Durbl-Rm</th>\n",
       "      <th>Manuf-Rm</th>\n",
       "      <th>Enrgy-Rm</th>\n",
       "      <th>HiTec-Rm</th>\n",
       "      <th>Telcm-Rm</th>\n",
       "      <th>Shops-Rm</th>\n",
       "      <th>Hlth-Rm</th>\n",
       "      <th>Utils-Rm</th>\n",
       "      <th>Other-Rm</th>\n",
       "    </tr>\n",
       "  </thead>\n",
       "  <tbody>\n",
       "    <tr>\n",
       "      <th>NoDur-Rm</th>\n",
       "      <td>5.439696</td>\n",
       "      <td>-6.073035</td>\n",
       "      <td>-1.396192</td>\n",
       "      <td>-1.200533</td>\n",
       "      <td>-1.883151</td>\n",
       "      <td>1.538885</td>\n",
       "      <td>1.140741</td>\n",
       "      <td>3.815137</td>\n",
       "      <td>4.272002</td>\n",
       "      <td>-1.768738</td>\n",
       "    </tr>\n",
       "    <tr>\n",
       "      <th>Durbl-Rm</th>\n",
       "      <td>-6.073035</td>\n",
       "      <td>26.628901</td>\n",
       "      <td>4.908024</td>\n",
       "      <td>-3.481055</td>\n",
       "      <td>1.891577</td>\n",
       "      <td>-1.707625</td>\n",
       "      <td>-0.354335</td>\n",
       "      <td>-8.082946</td>\n",
       "      <td>-9.617490</td>\n",
       "      <td>4.385865</td>\n",
       "    </tr>\n",
       "    <tr>\n",
       "      <th>Manuf-Rm</th>\n",
       "      <td>-1.396192</td>\n",
       "      <td>4.908024</td>\n",
       "      <td>2.950499</td>\n",
       "      <td>1.666133</td>\n",
       "      <td>0.065267</td>\n",
       "      <td>-0.626416</td>\n",
       "      <td>-1.154597</td>\n",
       "      <td>-2.288900</td>\n",
       "      <td>-1.901412</td>\n",
       "      <td>0.358904</td>\n",
       "    </tr>\n",
       "    <tr>\n",
       "      <th>Enrgy-Rm</th>\n",
       "      <td>-1.200533</td>\n",
       "      <td>-3.481055</td>\n",
       "      <td>1.666133</td>\n",
       "      <td>19.274911</td>\n",
       "      <td>-1.516972</td>\n",
       "      <td>-1.040525</td>\n",
       "      <td>-3.710439</td>\n",
       "      <td>-2.485796</td>\n",
       "      <td>4.454368</td>\n",
       "      <td>-3.864826</td>\n",
       "    </tr>\n",
       "    <tr>\n",
       "      <th>HiTec-Rm</th>\n",
       "      <td>-1.883151</td>\n",
       "      <td>1.891577</td>\n",
       "      <td>0.065267</td>\n",
       "      <td>-1.516972</td>\n",
       "      <td>5.098746</td>\n",
       "      <td>-0.773294</td>\n",
       "      <td>-0.245350</td>\n",
       "      <td>-1.936284</td>\n",
       "      <td>-2.342839</td>\n",
       "      <td>-1.404050</td>\n",
       "    </tr>\n",
       "  </tbody>\n",
       "</table>\n",
       "</div>"
      ],
      "text/plain": [
       "          NoDur-Rm   Durbl-Rm  Manuf-Rm   Enrgy-Rm  HiTec-Rm  Telcm-Rm  \\\n",
       "NoDur-Rm  5.439696  -6.073035 -1.396192  -1.200533 -1.883151  1.538885   \n",
       "Durbl-Rm -6.073035  26.628901  4.908024  -3.481055  1.891577 -1.707625   \n",
       "Manuf-Rm -1.396192   4.908024  2.950499   1.666133  0.065267 -0.626416   \n",
       "Enrgy-Rm -1.200533  -3.481055  1.666133  19.274911 -1.516972 -1.040525   \n",
       "HiTec-Rm -1.883151   1.891577  0.065267  -1.516972  5.098746 -0.773294   \n",
       "\n",
       "          Shops-Rm   Hlth-Rm  Utils-Rm  Other-Rm  \n",
       "NoDur-Rm  1.140741  3.815137  4.272002 -1.768738  \n",
       "Durbl-Rm -0.354335 -8.082946 -9.617490  4.385865  \n",
       "Manuf-Rm -1.154597 -2.288900 -1.901412  0.358904  \n",
       "Enrgy-Rm -3.710439 -2.485796  4.454368 -3.864826  \n",
       "HiTec-Rm -0.245350 -1.936284 -2.342839 -1.404050  "
      ]
     },
     "execution_count": 7,
     "metadata": {},
     "output_type": "execute_result"
    }
   ],
   "source": [
    "df_covs = df1[lst_excess_names].cov()\n",
    "df_covs.head()"
   ]
  },
  {
   "cell_type": "markdown",
   "id": "b36a8cb9",
   "metadata": {},
   "source": [
    "## 1.1.Plot the minimum-tracking-error frontier generated by the ten industry portfolios.\n",
    "\n",
    "This graph must have expected (monthly) return deviation on the vertical axis vs (monthly) tracking error on the horizontal axis.\n",
    "\n",
    "This graph must cover the range from 0% to 0.1% on the vertical axis, in increments of 0.005% (or less).\n"
   ]
  },
  {
   "cell_type": "code",
   "execution_count": 33,
   "id": "bc40a999",
   "metadata": {},
   "outputs": [
    {
     "data": {
      "image/png": "[encoded data removed]",
      "text/plain": [
       "<Figure size 640x480 with 1 Axes>"
      ]
     },
     "metadata": {},
     "output_type": "display_data"
    }
   ],
   "source": [
    "V = df_covs.copy()\n",
    "V_inv = pd.DataFrame(np.linalg.inv(V), columns=V.columns, index=V.index)\n",
    "\n",
    "R = se_excess_returns\n",
    "e = pd.Series([1]*10)\n",
    "e.index = R.index\n",
    "\n",
    "alpha = R.dot(V_inv).dot(e)\n",
    "zeta = R.dot(V_inv).dot(R)\n",
    "delta = e.dot(V_inv).dot(e)\n",
    "\n",
    "R_mv = alpha/delta\n",
    "\n",
    "#from 0% to 0.1% on the vertical axis\n",
    "R_p = np.linspace(0, 0.1, 100) \n",
    "\n",
    "sigma_p = np.sqrt(1/delta + delta/(zeta*delta-alpha**2)*(R_p-R_mv)**2)\n",
    "\n",
    "plt.plot(sigma_p, R_p, color='blue', linestyle='-')\n",
    "\n",
    "plt.yticks(np.arange(0, 0.105, 0.005))\n",
    "#plt.yticks(np.arange(0, 2.1, 0.1))\n",
    "plt.xlabel('(Monthly) Tracking Error')\n",
    "plt.ylabel('Expected (Monthly) Return Deviation')\n",
    "plt.title('Minimum-tracking-error Frontier')\n",
    "plt.show() "
   ]
  },
  {
   "cell_type": "markdown",
   "id": "74014971",
   "metadata": {},
   "source": [
    "## 1.2.Also plot the line starting from the origin that is tangent to the upper half of the minimum-tracking-error frontier."
   ]
  },
  {
   "cell_type": "code",
   "execution_count": 34,
   "id": "7f488d72",
   "metadata": {},
   "outputs": [],
   "source": [
    "#plot the line starting from the origin\n",
    "R_f = 0\n",
    "#R_p = np.linspace(0, 0.1, 100) \n",
    "R_p_riskless = np.linspace(0, 0.1, 100) \n",
    "\n",
    "#R_p = R_mv + np.sqrt((sigma_p**2-1/delta)*(zeta*delta-alpha**2)/delta)\n",
    "sigma_p_riskless = (R_p_riskless-R_f)/np.sqrt(zeta - 2*alpha*R_f + delta*(R_f**2))"
   ]
  },
  {
   "cell_type": "code",
   "execution_count": 35,
   "id": "bce4e5af",
   "metadata": {},
   "outputs": [
    {
     "data": {
      "image/png": "[encoded data removed]",
      "text/plain": [
       "<Figure size 640x480 with 1 Axes>"
      ]
     },
     "metadata": {},
     "output_type": "display_data"
    }
   ],
   "source": [
    "plt.plot(sigma_p, R_p, color='blue', linestyle='--')\n",
    "plt.plot(sigma_p_riskless, R_p_riskless, color='red', linestyle='-')\n",
    "\n",
    "plt.yticks(np.arange(0, 0.105, 0.005))\n",
    "plt.xlabel('(Monthly) Tracking Error')\n",
    "plt.ylabel('Expected (Monthly) Return Deviation')\n",
    "plt.title('Minimum-tracking-error Frontier')\n",
    "plt.show() "
   ]
  },
  {
   "cell_type": "markdown",
   "id": "d179c102",
   "metadata": {},
   "source": [
    "## 1.3.Calculate the information ratio and portfolio weights for the \"tangency\" portfolio."
   ]
  },
  {
   "cell_type": "code",
   "execution_count": 10,
   "id": "6160db89",
   "metadata": {},
   "outputs": [
    {
     "data": {
      "text/plain": [
       "0.4524875396199334"
      ]
     },
     "execution_count": 10,
     "metadata": {},
     "output_type": "execute_result"
    }
   ],
   "source": [
    "np.sqrt(zeta - 2*alpha*R_f + delta*R_f**2)"
   ]
  },
  {
   "cell_type": "code",
   "execution_count": 11,
   "id": "34c51dbd",
   "metadata": {},
   "outputs": [
    {
     "data": {
      "text/plain": [
       "NoDur-Rm    0.052634\n",
       "Durbl-Rm    0.000153\n",
       "Manuf-Rm    0.137627\n",
       "Enrgy-Rm    0.087032\n",
       "HiTec-Rm    0.179353\n",
       "Telcm-Rm    0.071074\n",
       "Shops-Rm    0.106884\n",
       "Hlth-Rm     0.102776\n",
       "Utils-Rm    0.040162\n",
       "Other-Rm    0.222304\n",
       "dtype: float64"
      ]
     },
     "execution_count": 11,
     "metadata": {},
     "output_type": "execute_result"
    }
   ],
   "source": [
    "R_tg = (alpha*R_f - zeta)/(delta*R_f - alpha)\n",
    "R_tg\n",
    "a = (zeta*V_inv.dot(e)-alpha*V_inv.dot(R))/(zeta*delta-alpha**2)\n",
    "b = (delta*V_inv.dot(R) - alpha*V_inv.dot(e))/(zeta*delta-alpha**2)\n",
    "w_star = a + b*R_tg\n",
    "\n",
    "w_star"
   ]
  },
  {
   "cell_type": "markdown",
   "id": "9f75198c",
   "metadata": {},
   "source": [
    "# 2.Part 2: Minimum-Variance Frontier w/o Short Sales\n",
    "\n",
    "Use the monthly returns of the ten industry portfolios to generate the minimum-variance frontier without short sales, using Monte Carlo simulation. Portfolio weights will be limited to the range [0, 1].\n",
    "\n",
    "Randomly draw each element of w, the 10 × 1 vector of portfolio weights, from the (standard) uniform distribution in the range [0, 1]. "
   ]
  },
  {
   "cell_type": "code",
   "execution_count": 12,
   "id": "83efe64c",
   "metadata": {},
   "outputs": [
    {
     "data": {
      "text/plain": [
       "0    0.257123\n",
       "1    0.988176\n",
       "2    0.239367\n",
       "3    0.664573\n",
       "4    0.763789\n",
       "5    0.780220\n",
       "6    0.630791\n",
       "7    0.434669\n",
       "8    0.871398\n",
       "9    0.086660\n",
       "dtype: float64"
      ]
     },
     "execution_count": 12,
     "metadata": {},
     "output_type": "execute_result"
    }
   ],
   "source": [
    "se_w = pd.Series(np.random.rand(10))\n",
    "se_w"
   ]
  },
  {
   "cell_type": "markdown",
   "id": "7c18cd4b",
   "metadata": {},
   "source": [
    "Divide w by the sum of the portfolio weights, to ensure that the portfolio weights sum to one. "
   ]
  },
  {
   "cell_type": "code",
   "execution_count": 13,
   "id": "d5ffe4a2",
   "metadata": {},
   "outputs": [
    {
     "data": {
      "text/plain": [
       "NoDur    0.044977\n",
       "Durbl    0.172856\n",
       "Manuf    0.041871\n",
       "Enrgy    0.116250\n",
       "HiTec    0.133605\n",
       "Telcm    0.136479\n",
       "Shops    0.110341\n",
       "Hlth     0.076034\n",
       "Utils    0.152429\n",
       "Other    0.015159\n",
       "dtype: float64"
      ]
     },
     "execution_count": 13,
     "metadata": {},
     "output_type": "execute_result"
    }
   ],
   "source": [
    "se_stand_w = se_w/sum(se_w)\n",
    "se_stand_w.index = lst_industry_names\n",
    "se_stand_w"
   ]
  },
  {
   "cell_type": "markdown",
   "id": "bdeee436",
   "metadata": {},
   "source": [
    "Use the normalised w to calculate the mean return and standard deviation of return for the simulated portfolio."
   ]
  },
  {
   "cell_type": "code",
   "execution_count": 47,
   "id": "07ba9c84",
   "metadata": {},
   "outputs": [
    {
     "data": {
      "text/plain": [
       "NoDur    0.283881\n",
       "Durbl    0.082973\n",
       "Manuf    0.061659\n",
       "Enrgy    0.066662\n",
       "HiTec    0.078094\n",
       "Telcm    0.138674\n",
       "Shops    0.075052\n",
       "Hlth     0.094099\n",
       "Utils    0.064984\n",
       "Other    0.053922\n",
       "dtype: float64"
      ]
     },
     "execution_count": 47,
     "metadata": {},
     "output_type": "execute_result"
    }
   ],
   "source": [
    "se_stand_w"
   ]
  },
  {
   "cell_type": "code",
   "execution_count": 14,
   "id": "2946651a",
   "metadata": {},
   "outputs": [
    {
     "data": {
      "text/plain": [
       "19.336082799548556"
      ]
     },
     "execution_count": 14,
     "metadata": {},
     "output_type": "execute_result"
    }
   ],
   "source": [
    "se_stand_w.dot(df1[lst_industry_names].cov()).dot(se_stand_w)"
   ]
  },
  {
   "cell_type": "code",
   "execution_count": 15,
   "id": "aadad75e",
   "metadata": {},
   "outputs": [
    {
     "data": {
      "text/plain": [
       "4.397281296386275"
      ]
     },
     "execution_count": 15,
     "metadata": {},
     "output_type": "execute_result"
    }
   ],
   "source": [
    "#standard deviation of return\n",
    "np.sqrt(se_stand_w.dot(df1[lst_industry_names].cov()).dot(se_stand_w))"
   ]
  },
  {
   "cell_type": "code",
   "execution_count": 16,
   "id": "73699a2f",
   "metadata": {},
   "outputs": [
    {
     "data": {
      "text/plain": [
       "0.8819676792371561"
      ]
     },
     "execution_count": 16,
     "metadata": {},
     "output_type": "execute_result"
    }
   ],
   "source": [
    "#mean return\n",
    "se_stand_w.dot(df1[lst_industry_names].apply(np.mean))"
   ]
  },
  {
   "cell_type": "markdown",
   "id": "704cede9",
   "metadata": {},
   "source": [
    "Repeat this process until you have (at least) 10^5 data points."
   ]
  },
  {
   "cell_type": "code",
   "execution_count": 21,
   "id": "dbd52bbd",
   "metadata": {},
   "outputs": [],
   "source": [
    "df_datapoints = pd.DataFrame(columns=[\"return\", \"std\"])\n",
    "for i in range(int(1e5)):\n",
    "    se_w = pd.Series(np.random.rand(10))\n",
    "    se_stand_w = se_w/sum(se_w)\n",
    "    se_stand_w.index = lst_industry_names\n",
    "    \n",
    "    profolio_std = np.sqrt(se_stand_w.dot(df1[lst_industry_names].cov()).dot(se_stand_w))\n",
    "    \n",
    "    profolio_return = se_stand_w.dot(df1[lst_industry_names].apply(np.mean))\n",
    "    df_datapoints.loc[len(df_datapoints)] = [profolio_return, profolio_std]"
   ]
  },
  {
   "cell_type": "code",
   "execution_count": 22,
   "id": "806820c6",
   "metadata": {},
   "outputs": [
    {
     "data": {
      "text/html": [
       "<div>\n",
       "<style scoped>\n",
       "    .dataframe tbody tr th:only-of-type {\n",
       "        vertical-align: middle;\n",
       "    }\n",
       "\n",
       "    .dataframe tbody tr th {\n",
       "        vertical-align: top;\n",
       "    }\n",
       "\n",
       "    .dataframe thead th {\n",
       "        text-align: right;\n",
       "    }\n",
       "</style>\n",
       "<table border=\"1\" class=\"dataframe\">\n",
       "  <thead>\n",
       "    <tr style=\"text-align: right;\">\n",
       "      <th></th>\n",
       "      <th>return</th>\n",
       "      <th>std</th>\n",
       "    </tr>\n",
       "  </thead>\n",
       "  <tbody>\n",
       "    <tr>\n",
       "      <th>0</th>\n",
       "      <td>0.862869</td>\n",
       "      <td>4.463213</td>\n",
       "    </tr>\n",
       "    <tr>\n",
       "      <th>1</th>\n",
       "      <td>0.875382</td>\n",
       "      <td>3.996951</td>\n",
       "    </tr>\n",
       "    <tr>\n",
       "      <th>2</th>\n",
       "      <td>0.851733</td>\n",
       "      <td>3.844729</td>\n",
       "    </tr>\n",
       "    <tr>\n",
       "      <th>3</th>\n",
       "      <td>0.892572</td>\n",
       "      <td>3.897553</td>\n",
       "    </tr>\n",
       "    <tr>\n",
       "      <th>4</th>\n",
       "      <td>0.834093</td>\n",
       "      <td>4.061500</td>\n",
       "    </tr>\n",
       "    <tr>\n",
       "      <th>...</th>\n",
       "      <td>...</td>\n",
       "      <td>...</td>\n",
       "    </tr>\n",
       "    <tr>\n",
       "      <th>99995</th>\n",
       "      <td>0.814739</td>\n",
       "      <td>4.365544</td>\n",
       "    </tr>\n",
       "    <tr>\n",
       "      <th>99996</th>\n",
       "      <td>0.812610</td>\n",
       "      <td>4.936617</td>\n",
       "    </tr>\n",
       "    <tr>\n",
       "      <th>99997</th>\n",
       "      <td>0.814795</td>\n",
       "      <td>4.513591</td>\n",
       "    </tr>\n",
       "    <tr>\n",
       "      <th>99998</th>\n",
       "      <td>0.907811</td>\n",
       "      <td>4.165979</td>\n",
       "    </tr>\n",
       "    <tr>\n",
       "      <th>99999</th>\n",
       "      <td>0.901974</td>\n",
       "      <td>3.872352</td>\n",
       "    </tr>\n",
       "  </tbody>\n",
       "</table>\n",
       "<p>100000 rows × 2 columns</p>\n",
       "</div>"
      ],
      "text/plain": [
       "         return       std\n",
       "0      0.862869  4.463213\n",
       "1      0.875382  3.996951\n",
       "2      0.851733  3.844729\n",
       "3      0.892572  3.897553\n",
       "4      0.834093  4.061500\n",
       "...         ...       ...\n",
       "99995  0.814739  4.365544\n",
       "99996  0.812610  4.936617\n",
       "99997  0.814795  4.513591\n",
       "99998  0.907811  4.165979\n",
       "99999  0.901974  3.872352\n",
       "\n",
       "[100000 rows x 2 columns]"
      ]
     },
     "execution_count": 22,
     "metadata": {},
     "output_type": "execute_result"
    }
   ],
   "source": [
    "df_datapoints"
   ]
  },
  {
   "cell_type": "markdown",
   "id": "bde3c480",
   "metadata": {},
   "source": [
    "## 2.1.Plot the data points with mean return on the vertical axis vs standard deviation of return on the horizontal axis."
   ]
  },
  {
   "cell_type": "code",
   "execution_count": 107,
   "id": "7dbeb584",
   "metadata": {},
   "outputs": [],
   "source": [
    "#improvement\n",
    "num_rows = int(1e5)\n",
    "num_cols = 10\n",
    "\n",
    "#get 1e5*10 standarized w\n",
    "random_matrix = np.random.rand(num_rows, num_cols)\n",
    "random_matrix = pd.DataFrame(random_matrix).T\n",
    "random_matrix.index = lst_industry_names\n",
    "w = random_matrix.apply(lambda x: x/np.sum(x))\n",
    "\n",
    "cov = df1[lst_industry_names].cov()\n",
    "R = df1[lst_industry_names].apply(np.mean)\n",
    "\n",
    "lst_variance = []\n",
    "lst_mean = []\n",
    "\n",
    "for i in range(len(w.columns)):\n",
    "    #var = w*cov*w\n",
    "    lst_variance.append(w[i].dot(cov).dot(w[i]))\n",
    "    #mean = w*R\n",
    "    lst_mean.append(w[i].dot(R))\n",
    "lst_std = np.sqrt(lst_variance)"
   ]
  },
  {
   "cell_type": "code",
   "execution_count": 108,
   "id": "82255b40",
   "metadata": {},
   "outputs": [
    {
     "data": {
      "image/png": "[encoded data removed]",
      "text/plain": [
       "<Figure size 640x480 with 1 Axes>"
      ]
     },
     "metadata": {},
     "output_type": "display_data"
    }
   ],
   "source": [
    "plt.scatter(lst_std, lst_mean)\n",
    "plt.xlabel(\"Standard Deviation of Return(%)\")\n",
    "plt.ylabel(\"Expected Return(%)\")\n",
    "plt.title(\"Minimum-Variance Frontier(No short Sales)\")\n",
    "plt.show()"
   ]
  },
  {
   "cell_type": "code",
   "execution_count": 110,
   "id": "712671cc",
   "metadata": {},
   "outputs": [],
   "source": [
    "# plt.scatter(df_datapoints[\"std\"], df_datapoints[\"return\"])\n",
    "# plt.show()"
   ]
  },
  {
   "cell_type": "markdown",
   "id": "6a928f7f",
   "metadata": {},
   "source": [
    "Repeat this entire process by simulating 1/w using the standard uniform distribution ⇒ take the reciprocal of the random draw from the standard uniform distribution as the portfolio weight.\n",
    "\n",
    "## 2.2.Plot the new data points (on a separate graph) with mean return on the vertical axis vs standard deviation of return on the horizontal axis.\n"
   ]
  },
  {
   "cell_type": "code",
   "execution_count": 24,
   "id": "a6ace554",
   "metadata": {},
   "outputs": [],
   "source": [
    "# df_datapoints1 = pd.DataFrame(columns=[\"return\", \"std\"])\n",
    "# for i in range(int(1e5)):\n",
    "#     se_w = pd.Series(1/np.random.rand(10))\n",
    "#     se_stand_w = se_w/sum(se_w)\n",
    "#     se_stand_w.index = lst_industry_names\n",
    "    \n",
    "#     profolio_std = np.sqrt(se_stand_w.dot(df1[lst_industry_names].cov()).dot(se_stand_w))\n",
    "    \n",
    "#     profolio_return = se_stand_w.dot(df1[lst_industry_names].apply(np.mean))\n",
    "#     df_datapoints1.loc[len(df_datapoints1)] = [profolio_return, profolio_std]"
   ]
  },
  {
   "cell_type": "code",
   "execution_count": 25,
   "id": "ce75191f",
   "metadata": {},
   "outputs": [
    {
     "data": {
      "text/html": [
       "<div>\n",
       "<style scoped>\n",
       "    .dataframe tbody tr th:only-of-type {\n",
       "        vertical-align: middle;\n",
       "    }\n",
       "\n",
       "    .dataframe tbody tr th {\n",
       "        vertical-align: top;\n",
       "    }\n",
       "\n",
       "    .dataframe thead th {\n",
       "        text-align: right;\n",
       "    }\n",
       "</style>\n",
       "<table border=\"1\" class=\"dataframe\">\n",
       "  <thead>\n",
       "    <tr style=\"text-align: right;\">\n",
       "      <th></th>\n",
       "      <th>return</th>\n",
       "      <th>std</th>\n",
       "    </tr>\n",
       "  </thead>\n",
       "  <tbody>\n",
       "    <tr>\n",
       "      <th>0</th>\n",
       "      <td>0.884764</td>\n",
       "      <td>4.083773</td>\n",
       "    </tr>\n",
       "    <tr>\n",
       "      <th>1</th>\n",
       "      <td>0.868411</td>\n",
       "      <td>4.307771</td>\n",
       "    </tr>\n",
       "    <tr>\n",
       "      <th>2</th>\n",
       "      <td>0.879001</td>\n",
       "      <td>4.404314</td>\n",
       "    </tr>\n",
       "    <tr>\n",
       "      <th>3</th>\n",
       "      <td>0.900359</td>\n",
       "      <td>3.614840</td>\n",
       "    </tr>\n",
       "    <tr>\n",
       "      <th>4</th>\n",
       "      <td>0.880095</td>\n",
       "      <td>4.532471</td>\n",
       "    </tr>\n",
       "    <tr>\n",
       "      <th>...</th>\n",
       "      <td>...</td>\n",
       "      <td>...</td>\n",
       "    </tr>\n",
       "    <tr>\n",
       "      <th>99995</th>\n",
       "      <td>0.925300</td>\n",
       "      <td>3.919110</td>\n",
       "    </tr>\n",
       "    <tr>\n",
       "      <th>99996</th>\n",
       "      <td>0.651339</td>\n",
       "      <td>4.928453</td>\n",
       "    </tr>\n",
       "    <tr>\n",
       "      <th>99997</th>\n",
       "      <td>0.911717</td>\n",
       "      <td>4.077208</td>\n",
       "    </tr>\n",
       "    <tr>\n",
       "      <th>99998</th>\n",
       "      <td>0.907541</td>\n",
       "      <td>4.764562</td>\n",
       "    </tr>\n",
       "    <tr>\n",
       "      <th>99999</th>\n",
       "      <td>0.871590</td>\n",
       "      <td>3.954955</td>\n",
       "    </tr>\n",
       "  </tbody>\n",
       "</table>\n",
       "<p>100000 rows × 2 columns</p>\n",
       "</div>"
      ],
      "text/plain": [
       "         return       std\n",
       "0      0.884764  4.083773\n",
       "1      0.868411  4.307771\n",
       "2      0.879001  4.404314\n",
       "3      0.900359  3.614840\n",
       "4      0.880095  4.532471\n",
       "...         ...       ...\n",
       "99995  0.925300  3.919110\n",
       "99996  0.651339  4.928453\n",
       "99997  0.911717  4.077208\n",
       "99998  0.907541  4.764562\n",
       "99999  0.871590  3.954955\n",
       "\n",
       "[100000 rows x 2 columns]"
      ]
     },
     "execution_count": 25,
     "metadata": {},
     "output_type": "execute_result"
    }
   ],
   "source": [
    "# df_datapoints1"
   ]
  },
  {
   "cell_type": "code",
   "execution_count": 105,
   "id": "e09a6742",
   "metadata": {},
   "outputs": [],
   "source": [
    "#improvement\n",
    "num_rows = int(1e5)\n",
    "num_cols = 10\n",
    "\n",
    "#get 1e5*10 standarized w\n",
    "random_matrix = 1/np.random.rand(num_rows, num_cols)\n",
    "random_matrix = pd.DataFrame(random_matrix).T\n",
    "random_matrix.index = lst_industry_names\n",
    "w = random_matrix.apply(lambda x: x/np.sum(x))\n",
    "\n",
    "cov = df1[lst_industry_names].cov()\n",
    "R = df1[lst_industry_names].apply(np.mean)\n",
    "\n",
    "lst_variance = []\n",
    "lst_mean = []\n",
    "\n",
    "for i in range(len(w.columns)):\n",
    "    #var = w*cov*w\n",
    "    lst_variance.append(w[i].dot(cov).dot(w[i]))\n",
    "    #mean = w*R\n",
    "    lst_mean.append(w[i].dot(R))\n",
    "lst_std = np.sqrt(lst_variance)"
   ]
  },
  {
   "cell_type": "code",
   "execution_count": 106,
   "id": "b43afe27",
   "metadata": {},
   "outputs": [
    {
     "data": {
      "image/png": "[encoded data removed]",
      "text/plain": [
       "<Figure size 640x480 with 1 Axes>"
      ]
     },
     "metadata": {},
     "output_type": "display_data"
    }
   ],
   "source": [
    "plt.scatter(lst_std, lst_mean)\n",
    "plt.xlabel(\"Standard Deviation of Return(%)\")\n",
    "plt.ylabel(\"Expected Return(%)\")\n",
    "plt.title(\"Minimum-Variance Frontier(No short Sales)\")\n",
    "plt.show()"
   ]
  },
  {
   "cell_type": "code",
   "execution_count": 109,
   "id": "e4c3b8c5",
   "metadata": {},
   "outputs": [],
   "source": [
    "# plt.scatter(df_datapoints1[\"std\"], df_datapoints1[\"return\"])\n",
    "# plt.show()"
   ]
  }
 ],
 "metadata": {
  "kernelspec": {
   "display_name": "Python 3 (ipykernel)",
   "language": "python",
   "name": "python3"
  },
  "language_info": {
   "codemirror_mode": {
    "name": "ipython",
    "version": 3
   },
   "file_extension": ".py",
   "mimetype": "text/x-python",
   "name": "python",
   "nbconvert_exporter": "python",
   "pygments_lexer": "ipython3",
   "version": "3.11.3"
  }
 },
 "nbformat": 4,
 "nbformat_minor": 5
}
