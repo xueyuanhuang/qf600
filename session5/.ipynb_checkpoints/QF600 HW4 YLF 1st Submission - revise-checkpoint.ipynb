{
 "cells": [
  {
   "cell_type": "markdown",
   "id": "ada707ba",
   "metadata": {},
   "source": [
    "# QF 600 Asset Pricing | YU Lingfeng\n",
    "## `Homework 4` | Efficient Frontier Revisit"
   ]
  },
  {
   "cell_type": "markdown",
   "id": "013ccd62",
   "metadata": {},
   "source": [
    "### <font color = green> Activation of necessary libraries. </font>"
   ]
  },
  {
   "cell_type": "code",
   "execution_count": 1,
   "id": "8bbb12db",
   "metadata": {},
   "outputs": [],
   "source": [
    "# !pip install matplotlib\n",
    "# !pip install --upgrade openpyxl\n",
    "# !pip install nbconvert"
   ]
  },
  {
   "cell_type": "code",
   "execution_count": 2,
   "id": "b3c44e7b",
   "metadata": {},
   "outputs": [],
   "source": [
    "import pandas as pd\n",
    "import numpy as np\n",
    "import math\n",
    "import matplotlib.pyplot as plt\n",
    "from datetime import datetime\n",
    "\n",
    "from IPython.display import display\n",
    "from IPython.display import Image\n",
    "import random\n",
    "import warnings\n",
    "\n",
    "# Ignore all warnings (not recommended for production code)\n",
    "warnings.filterwarnings(\"ignore\")"
   ]
  },
  {
   "cell_type": "code",
   "execution_count": 3,
   "id": "1355d749",
   "metadata": {},
   "outputs": [],
   "source": [
    "def generate_w(n_asset, n_samples):\n",
    "    col_names = []\n",
    "    for i in range(n_asset):\n",
    "        col_names += [f'w{i+1}']\n",
    "    w = []\n",
    "    for j in range(n_samples):\n",
    "        w_rand = []\n",
    "        for i in range(n_asset):\n",
    "            w_rand += [random.uniform(0, 1)]\n",
    "\n",
    "        w += [w_rand] \n",
    "    w = pd.DataFrame(w)\n",
    "    w.columns = col_names\n",
    "    w['sum'] = w.sum(axis = 1)\n",
    "    for col in w.iloc[:,:-1].columns:\n",
    "        w[col] = w[col] / w['sum']\n",
    "    w['Norm_sum'] = w.iloc[:,:-1].sum(axis = 1) \n",
    "    return w.iloc[:, :-2]\n",
    "\n"
   ]
  },
  {
   "cell_type": "code",
   "execution_count": 4,
   "id": "c4873a18",
   "metadata": {},
   "outputs": [],
   "source": [
    "def generate_w_reciprocal(n_asset, n_samples):\n",
    "    col_names = []\n",
    "    for i in range(n_asset):\n",
    "        col_names += [f'w{i+1}']\n",
    "    w = []\n",
    "    for j in range(n_samples):\n",
    "        w_rand = []\n",
    "        for i in range(n_asset):\n",
    "            w_rand += [1/random.uniform(0, 1)]\n",
    "\n",
    "        w += [w_rand] \n",
    "    w = pd.DataFrame(w)\n",
    "    w.columns = col_names\n",
    "    w['sum'] = w.sum(axis = 1)\n",
    "    for col in w.iloc[:,:-1].columns:\n",
    "        w[col] = w[col] / w['sum']\n",
    "    w['Norm_sum'] = w.iloc[:,:-1].sum(axis = 1) \n",
    "    return w.iloc[:, :-2]    "
   ]
  },
  {
   "cell_type": "code",
   "execution_count": 5,
   "id": "4df06414",
   "metadata": {},
   "outputs": [
    {
     "data": {
      "text/html": [
       "<div>\n",
       "<style scoped>\n",
       "    .dataframe tbody tr th:only-of-type {\n",
       "        vertical-align: middle;\n",
       "    }\n",
       "\n",
       "    .dataframe tbody tr th {\n",
       "        vertical-align: top;\n",
       "    }\n",
       "\n",
       "    .dataframe thead th {\n",
       "        text-align: right;\n",
       "    }\n",
       "</style>\n",
       "<table border=\"1\" class=\"dataframe\">\n",
       "  <thead>\n",
       "    <tr style=\"text-align: right;\">\n",
       "      <th></th>\n",
       "      <th>w1</th>\n",
       "      <th>w2</th>\n",
       "      <th>w3</th>\n",
       "      <th>w4</th>\n",
       "      <th>w5</th>\n",
       "      <th>w6</th>\n",
       "      <th>w7</th>\n",
       "      <th>w8</th>\n",
       "      <th>w9</th>\n",
       "      <th>w10</th>\n",
       "    </tr>\n",
       "  </thead>\n",
       "  <tbody>\n",
       "    <tr>\n",
       "      <th>0</th>\n",
       "      <td>0.130155</td>\n",
       "      <td>0.034940</td>\n",
       "      <td>0.061833</td>\n",
       "      <td>0.062239</td>\n",
       "      <td>0.057100</td>\n",
       "      <td>0.434414</td>\n",
       "      <td>0.057942</td>\n",
       "      <td>0.036907</td>\n",
       "      <td>0.046467</td>\n",
       "      <td>0.078005</td>\n",
       "    </tr>\n",
       "    <tr>\n",
       "      <th>1</th>\n",
       "      <td>0.035182</td>\n",
       "      <td>0.060347</td>\n",
       "      <td>0.029801</td>\n",
       "      <td>0.113703</td>\n",
       "      <td>0.438389</td>\n",
       "      <td>0.075100</td>\n",
       "      <td>0.031346</td>\n",
       "      <td>0.028514</td>\n",
       "      <td>0.033440</td>\n",
       "      <td>0.154178</td>\n",
       "    </tr>\n",
       "    <tr>\n",
       "      <th>2</th>\n",
       "      <td>0.055472</td>\n",
       "      <td>0.056021</td>\n",
       "      <td>0.164101</td>\n",
       "      <td>0.062431</td>\n",
       "      <td>0.352351</td>\n",
       "      <td>0.092412</td>\n",
       "      <td>0.025458</td>\n",
       "      <td>0.035578</td>\n",
       "      <td>0.069666</td>\n",
       "      <td>0.086511</td>\n",
       "    </tr>\n",
       "    <tr>\n",
       "      <th>3</th>\n",
       "      <td>0.110382</td>\n",
       "      <td>0.016757</td>\n",
       "      <td>0.065051</td>\n",
       "      <td>0.038122</td>\n",
       "      <td>0.178448</td>\n",
       "      <td>0.405206</td>\n",
       "      <td>0.017365</td>\n",
       "      <td>0.017519</td>\n",
       "      <td>0.022109</td>\n",
       "      <td>0.129041</td>\n",
       "    </tr>\n",
       "  </tbody>\n",
       "</table>\n",
       "</div>"
      ],
      "text/plain": [
       "         w1        w2        w3        w4        w5        w6        w7  \\\n",
       "0  0.130155  0.034940  0.061833  0.062239  0.057100  0.434414  0.057942   \n",
       "1  0.035182  0.060347  0.029801  0.113703  0.438389  0.075100  0.031346   \n",
       "2  0.055472  0.056021  0.164101  0.062431  0.352351  0.092412  0.025458   \n",
       "3  0.110382  0.016757  0.065051  0.038122  0.178448  0.405206  0.017365   \n",
       "\n",
       "         w8        w9       w10  \n",
       "0  0.036907  0.046467  0.078005  \n",
       "1  0.028514  0.033440  0.154178  \n",
       "2  0.035578  0.069666  0.086511  \n",
       "3  0.017519  0.022109  0.129041  "
      ]
     },
     "execution_count": 5,
     "metadata": {},
     "output_type": "execute_result"
    }
   ],
   "source": [
    "t = generate_w_reciprocal(10, 4)\n",
    "t"
   ]
  },
  {
   "cell_type": "markdown",
   "id": "89c8d528",
   "metadata": {},
   "source": [
    "### <font color = \"blue\"> `IMPORT` dataset: `Industry_Portfolios.xlsx`. `Market_Portfolio.csv` </font> \n",
    "### <font color = \"blue\"> Validate dataset"
   ]
  },
  {
   "cell_type": "markdown",
   "id": "995fd0c2",
   "metadata": {},
   "source": [
    "> ### Question 1: Minimum-Tracking-Error Frontier"
   ]
  },
  {
   "cell_type": "markdown",
   "id": "9c8eb04b",
   "metadata": {},
   "source": [
    "#### Q1.1 minimum-tracking-error frontier generated by the ten industry portfolios."
   ]
  },
  {
   "cell_type": "code",
   "execution_count": 6,
   "id": "31cece74",
   "metadata": {},
   "outputs": [
    {
     "ename": "FileNotFoundError",
     "evalue": "[Errno 2] No such file or directory: 'Industry_Portfolios.csv'",
     "output_type": "error",
     "traceback": [
      "\u001b[1;31m---------------------------------------------------------------------------\u001b[0m",
      "\u001b[1;31mFileNotFoundError\u001b[0m                         Traceback (most recent call last)",
      "Cell \u001b[1;32mIn[6], line 1\u001b[0m\n\u001b[1;32m----> 1\u001b[0m Ind_R \u001b[38;5;241m=\u001b[39m pd\u001b[38;5;241m.\u001b[39mread_csv(\u001b[38;5;124m'\u001b[39m\u001b[38;5;124mIndustry_Portfolios.csv\u001b[39m\u001b[38;5;124m'\u001b[39m)\n\u001b[0;32m      2\u001b[0m Mkt_R \u001b[38;5;241m=\u001b[39m pd\u001b[38;5;241m.\u001b[39mread_csv(\u001b[38;5;124m'\u001b[39m\u001b[38;5;124mMarket_Portfolio.csv\u001b[39m\u001b[38;5;124m'\u001b[39m)\n",
      "File \u001b[1;32mE:\\software\\anaconda3\\Lib\\site-packages\\pandas\\io\\parsers\\readers.py:948\u001b[0m, in \u001b[0;36mread_csv\u001b[1;34m(filepath_or_buffer, sep, delimiter, header, names, index_col, usecols, dtype, engine, converters, true_values, false_values, skipinitialspace, skiprows, skipfooter, nrows, na_values, keep_default_na, na_filter, verbose, skip_blank_lines, parse_dates, infer_datetime_format, keep_date_col, date_parser, date_format, dayfirst, cache_dates, iterator, chunksize, compression, thousands, decimal, lineterminator, quotechar, quoting, doublequote, escapechar, comment, encoding, encoding_errors, dialect, on_bad_lines, delim_whitespace, low_memory, memory_map, float_precision, storage_options, dtype_backend)\u001b[0m\n\u001b[0;32m    935\u001b[0m kwds_defaults \u001b[38;5;241m=\u001b[39m _refine_defaults_read(\n\u001b[0;32m    936\u001b[0m     dialect,\n\u001b[0;32m    937\u001b[0m     delimiter,\n\u001b[1;32m   (...)\u001b[0m\n\u001b[0;32m    944\u001b[0m     dtype_backend\u001b[38;5;241m=\u001b[39mdtype_backend,\n\u001b[0;32m    945\u001b[0m )\n\u001b[0;32m    946\u001b[0m kwds\u001b[38;5;241m.\u001b[39mupdate(kwds_defaults)\n\u001b[1;32m--> 948\u001b[0m \u001b[38;5;28;01mreturn\u001b[39;00m _read(filepath_or_buffer, kwds)\n",
      "File \u001b[1;32mE:\\software\\anaconda3\\Lib\\site-packages\\pandas\\io\\parsers\\readers.py:611\u001b[0m, in \u001b[0;36m_read\u001b[1;34m(filepath_or_buffer, kwds)\u001b[0m\n\u001b[0;32m    608\u001b[0m _validate_names(kwds\u001b[38;5;241m.\u001b[39mget(\u001b[38;5;124m\"\u001b[39m\u001b[38;5;124mnames\u001b[39m\u001b[38;5;124m\"\u001b[39m, \u001b[38;5;28;01mNone\u001b[39;00m))\n\u001b[0;32m    610\u001b[0m \u001b[38;5;66;03m# Create the parser.\u001b[39;00m\n\u001b[1;32m--> 611\u001b[0m parser \u001b[38;5;241m=\u001b[39m TextFileReader(filepath_or_buffer, \u001b[38;5;241m*\u001b[39m\u001b[38;5;241m*\u001b[39mkwds)\n\u001b[0;32m    613\u001b[0m \u001b[38;5;28;01mif\u001b[39;00m chunksize \u001b[38;5;129;01mor\u001b[39;00m iterator:\n\u001b[0;32m    614\u001b[0m     \u001b[38;5;28;01mreturn\u001b[39;00m parser\n",
      "File \u001b[1;32mE:\\software\\anaconda3\\Lib\\site-packages\\pandas\\io\\parsers\\readers.py:1448\u001b[0m, in \u001b[0;36mTextFileReader.__init__\u001b[1;34m(self, f, engine, **kwds)\u001b[0m\n\u001b[0;32m   1445\u001b[0m     \u001b[38;5;28mself\u001b[39m\u001b[38;5;241m.\u001b[39moptions[\u001b[38;5;124m\"\u001b[39m\u001b[38;5;124mhas_index_names\u001b[39m\u001b[38;5;124m\"\u001b[39m] \u001b[38;5;241m=\u001b[39m kwds[\u001b[38;5;124m\"\u001b[39m\u001b[38;5;124mhas_index_names\u001b[39m\u001b[38;5;124m\"\u001b[39m]\n\u001b[0;32m   1447\u001b[0m \u001b[38;5;28mself\u001b[39m\u001b[38;5;241m.\u001b[39mhandles: IOHandles \u001b[38;5;241m|\u001b[39m \u001b[38;5;28;01mNone\u001b[39;00m \u001b[38;5;241m=\u001b[39m \u001b[38;5;28;01mNone\u001b[39;00m\n\u001b[1;32m-> 1448\u001b[0m \u001b[38;5;28mself\u001b[39m\u001b[38;5;241m.\u001b[39m_engine \u001b[38;5;241m=\u001b[39m \u001b[38;5;28mself\u001b[39m\u001b[38;5;241m.\u001b[39m_make_engine(f, \u001b[38;5;28mself\u001b[39m\u001b[38;5;241m.\u001b[39mengine)\n",
      "File \u001b[1;32mE:\\software\\anaconda3\\Lib\\site-packages\\pandas\\io\\parsers\\readers.py:1705\u001b[0m, in \u001b[0;36mTextFileReader._make_engine\u001b[1;34m(self, f, engine)\u001b[0m\n\u001b[0;32m   1703\u001b[0m     \u001b[38;5;28;01mif\u001b[39;00m \u001b[38;5;124m\"\u001b[39m\u001b[38;5;124mb\u001b[39m\u001b[38;5;124m\"\u001b[39m \u001b[38;5;129;01mnot\u001b[39;00m \u001b[38;5;129;01min\u001b[39;00m mode:\n\u001b[0;32m   1704\u001b[0m         mode \u001b[38;5;241m+\u001b[39m\u001b[38;5;241m=\u001b[39m \u001b[38;5;124m\"\u001b[39m\u001b[38;5;124mb\u001b[39m\u001b[38;5;124m\"\u001b[39m\n\u001b[1;32m-> 1705\u001b[0m \u001b[38;5;28mself\u001b[39m\u001b[38;5;241m.\u001b[39mhandles \u001b[38;5;241m=\u001b[39m get_handle(\n\u001b[0;32m   1706\u001b[0m     f,\n\u001b[0;32m   1707\u001b[0m     mode,\n\u001b[0;32m   1708\u001b[0m     encoding\u001b[38;5;241m=\u001b[39m\u001b[38;5;28mself\u001b[39m\u001b[38;5;241m.\u001b[39moptions\u001b[38;5;241m.\u001b[39mget(\u001b[38;5;124m\"\u001b[39m\u001b[38;5;124mencoding\u001b[39m\u001b[38;5;124m\"\u001b[39m, \u001b[38;5;28;01mNone\u001b[39;00m),\n\u001b[0;32m   1709\u001b[0m     compression\u001b[38;5;241m=\u001b[39m\u001b[38;5;28mself\u001b[39m\u001b[38;5;241m.\u001b[39moptions\u001b[38;5;241m.\u001b[39mget(\u001b[38;5;124m\"\u001b[39m\u001b[38;5;124mcompression\u001b[39m\u001b[38;5;124m\"\u001b[39m, \u001b[38;5;28;01mNone\u001b[39;00m),\n\u001b[0;32m   1710\u001b[0m     memory_map\u001b[38;5;241m=\u001b[39m\u001b[38;5;28mself\u001b[39m\u001b[38;5;241m.\u001b[39moptions\u001b[38;5;241m.\u001b[39mget(\u001b[38;5;124m\"\u001b[39m\u001b[38;5;124mmemory_map\u001b[39m\u001b[38;5;124m\"\u001b[39m, \u001b[38;5;28;01mFalse\u001b[39;00m),\n\u001b[0;32m   1711\u001b[0m     is_text\u001b[38;5;241m=\u001b[39mis_text,\n\u001b[0;32m   1712\u001b[0m     errors\u001b[38;5;241m=\u001b[39m\u001b[38;5;28mself\u001b[39m\u001b[38;5;241m.\u001b[39moptions\u001b[38;5;241m.\u001b[39mget(\u001b[38;5;124m\"\u001b[39m\u001b[38;5;124mencoding_errors\u001b[39m\u001b[38;5;124m\"\u001b[39m, \u001b[38;5;124m\"\u001b[39m\u001b[38;5;124mstrict\u001b[39m\u001b[38;5;124m\"\u001b[39m),\n\u001b[0;32m   1713\u001b[0m     storage_options\u001b[38;5;241m=\u001b[39m\u001b[38;5;28mself\u001b[39m\u001b[38;5;241m.\u001b[39moptions\u001b[38;5;241m.\u001b[39mget(\u001b[38;5;124m\"\u001b[39m\u001b[38;5;124mstorage_options\u001b[39m\u001b[38;5;124m\"\u001b[39m, \u001b[38;5;28;01mNone\u001b[39;00m),\n\u001b[0;32m   1714\u001b[0m )\n\u001b[0;32m   1715\u001b[0m \u001b[38;5;28;01massert\u001b[39;00m \u001b[38;5;28mself\u001b[39m\u001b[38;5;241m.\u001b[39mhandles \u001b[38;5;129;01mis\u001b[39;00m \u001b[38;5;129;01mnot\u001b[39;00m \u001b[38;5;28;01mNone\u001b[39;00m\n\u001b[0;32m   1716\u001b[0m f \u001b[38;5;241m=\u001b[39m \u001b[38;5;28mself\u001b[39m\u001b[38;5;241m.\u001b[39mhandles\u001b[38;5;241m.\u001b[39mhandle\n",
      "File \u001b[1;32mE:\\software\\anaconda3\\Lib\\site-packages\\pandas\\io\\common.py:863\u001b[0m, in \u001b[0;36mget_handle\u001b[1;34m(path_or_buf, mode, encoding, compression, memory_map, is_text, errors, storage_options)\u001b[0m\n\u001b[0;32m    858\u001b[0m \u001b[38;5;28;01melif\u001b[39;00m \u001b[38;5;28misinstance\u001b[39m(handle, \u001b[38;5;28mstr\u001b[39m):\n\u001b[0;32m    859\u001b[0m     \u001b[38;5;66;03m# Check whether the filename is to be opened in binary mode.\u001b[39;00m\n\u001b[0;32m    860\u001b[0m     \u001b[38;5;66;03m# Binary mode does not support 'encoding' and 'newline'.\u001b[39;00m\n\u001b[0;32m    861\u001b[0m     \u001b[38;5;28;01mif\u001b[39;00m ioargs\u001b[38;5;241m.\u001b[39mencoding \u001b[38;5;129;01mand\u001b[39;00m \u001b[38;5;124m\"\u001b[39m\u001b[38;5;124mb\u001b[39m\u001b[38;5;124m\"\u001b[39m \u001b[38;5;129;01mnot\u001b[39;00m \u001b[38;5;129;01min\u001b[39;00m ioargs\u001b[38;5;241m.\u001b[39mmode:\n\u001b[0;32m    862\u001b[0m         \u001b[38;5;66;03m# Encoding\u001b[39;00m\n\u001b[1;32m--> 863\u001b[0m         handle \u001b[38;5;241m=\u001b[39m \u001b[38;5;28mopen\u001b[39m(\n\u001b[0;32m    864\u001b[0m             handle,\n\u001b[0;32m    865\u001b[0m             ioargs\u001b[38;5;241m.\u001b[39mmode,\n\u001b[0;32m    866\u001b[0m             encoding\u001b[38;5;241m=\u001b[39mioargs\u001b[38;5;241m.\u001b[39mencoding,\n\u001b[0;32m    867\u001b[0m             errors\u001b[38;5;241m=\u001b[39merrors,\n\u001b[0;32m    868\u001b[0m             newline\u001b[38;5;241m=\u001b[39m\u001b[38;5;124m\"\u001b[39m\u001b[38;5;124m\"\u001b[39m,\n\u001b[0;32m    869\u001b[0m         )\n\u001b[0;32m    870\u001b[0m     \u001b[38;5;28;01melse\u001b[39;00m:\n\u001b[0;32m    871\u001b[0m         \u001b[38;5;66;03m# Binary mode\u001b[39;00m\n\u001b[0;32m    872\u001b[0m         handle \u001b[38;5;241m=\u001b[39m \u001b[38;5;28mopen\u001b[39m(handle, ioargs\u001b[38;5;241m.\u001b[39mmode)\n",
      "\u001b[1;31mFileNotFoundError\u001b[0m: [Errno 2] No such file or directory: 'Industry_Portfolios.csv'"
     ]
    }
   ],
   "source": [
    "Ind_R = pd.read_excel(\"Industry_Portfolios.xlsx\", index_col=\"Date\")\n",
    "Mkt_R = pd.read_excel(\"Industry_Portfolios.xlsx\", index_col=\"Date\")read_csv('Market_Portfolio.csv')"
   ]
  },
  {
   "cell_type": "code",
   "execution_count": null,
   "id": "ccda323d",
   "metadata": {},
   "outputs": [],
   "source": [
    "def Min_Tracking_Error_Frontier(Portfolio_R, Market_R, Rf, start, end, step):\n",
    "    col_names = list(Portfolio_R.columns)\n",
    "    result = 0\n",
    "    R_i = Portfolio_R.iloc[:,1:]\n",
    "    for col in R_i.columns:\n",
    "        R_i[col] = R_i[col] - Mkt_R.iloc[:,1]\n",
    "    R_i_matrix = R_i.iloc[:, :].to_numpy()\n",
    "    \n",
    "    R_i_mean = R_i.mean(axis = 0)\n",
    "    R_i_mean = pd.DataFrame(R_i_mean)\n",
    "    R_i_mean.columns = ['Ri_mean']\n",
    "    R_i_mean['Ri_std'] = R_i.std(axis = 0)\n",
    "    R_i_mean['Ri_var'] = R_i_mean['Ri_std'] ** 2\n",
    "\n",
    "    # Calculate the variance-covariance matrix\n",
    "    # Setting rowvar=False means that each column represents a variable (asset), \n",
    "    # and each row represents an observation (sample).\n",
    "    V = np.cov(R_i_matrix, rowvar=False)\n",
    "    # Calculate the V-inverse\n",
    "    V_inv = np.linalg.inv(V)\n",
    "\n",
    "    # Calculate the R-prime (transpose)\n",
    "    R_prime = R_i_mean['Ri_mean'].to_numpy()\n",
    "    R = np.transpose(R_prime)\n",
    "    # create the unit vector e\n",
    "    e_prime = np.ones(len(col_names) - 1)\n",
    "    e = e_prime.T\n",
    "\n",
    "    alpha = R_prime @ V_inv @ e\n",
    "    zeta = R_prime @ V_inv @ R\n",
    "    delta = np.dot(np.dot(e_prime, V_inv), e)    \n",
    "\n",
    "    Rmv = alpha / delta\n",
    "    Rp = np.arange(start, end, step)\n",
    "    Var = (1 / delta) + (delta / (zeta * delta - alpha ** 2) ) * ((Rp - Rmv) ** 2)\n",
    "    st_d = Var ** 0.5\n",
    "    \n",
    "    frontier_plot = [Rp, st_d]\n",
    "    \n",
    "    frontier_plot = pd.DataFrame(frontier_plot)\n",
    "    frontier_plot.index = ['Y', 'X']\n",
    "\n",
    "    # name sigma_p for differentiate with previous st_d, for tangency line\n",
    "    sigma_p = (Rp - Rf) / ((zeta - 2 * alpha * Rf + delta * (Rf**2)) ** 0.5)\n",
    "      \n",
    "    # Information Ratio for tangency portfolio = (Rtg - Rf) / sigma_tg\n",
    "    Info_ratio_tg = (zeta - 2 * alpha * Rf + delta * (Rf**2)) ** 0.5\n",
    "    \n",
    "    Rtg = (alpha * Rf - zeta) / (delta * Rf - alpha)\n",
    "    # Weightage w* = a + b * Rp, on Lecture Notes 2 Page 12\n",
    "    w_star = ((delta * Rtg - alpha) / (zeta * delta - alpha ** 2)) *\\\n",
    "                                    (V_inv @ R) + ((zeta - alpha * Rtg) / \\\n",
    "                                    (zeta * delta - alpha ** 2)) * (V_inv @ e)    \n",
    "    w_star = pd.DataFrame(w_star)\n",
    "    w_star.columns = ['Weightage']\n",
    "    w_star.index = col_names[1:]\n",
    "    print(alpha)\n",
    "    return [frontier_plot.T, sigma_p, V, R_i_mean, Info_ratio_tg, w_star]"
   ]
  },
  {
   "cell_type": "code",
   "execution_count": null,
   "id": "9cb95c8b",
   "metadata": {},
   "outputs": [],
   "source": [
    "MTEF = Min_Tracking_Error_Frontier(Ind_R, Mkt_R, 0, 0, 0.105, 0.005)\n",
    "MTEF[-1]"
   ]
  },
  {
   "cell_type": "code",
   "execution_count": null,
   "id": "6be62515",
   "metadata": {},
   "outputs": [],
   "source": [
    "information_ratio = MTEF[-2]\n",
    "weights_tangency = MTEF[-1]"
   ]
  },
  {
   "cell_type": "code",
   "execution_count": null,
   "id": "04d877e5",
   "metadata": {},
   "outputs": [],
   "source": [
    "def plot_frontier(df_coordinates, line_p, x_label, y_label, plt_title,\\\n",
    "                  start, end, step, tan=True):\n",
    "    partition = (len(df_coordinates)) // 2\n",
    "\n",
    "    plt.figure(figsize=(8, 6))\n",
    "    # Create a line plot for y1\n",
    "    plt.plot(df_coordinates['X'][:partition+1], \n",
    "             df_coordinates['Y'][:partition+1], label='Inefficient',\n",
    "             marker='s', linestyle='--')\n",
    "\n",
    "    # Create a line plot for y2\n",
    "    plt.plot(df_coordinates['X'][partition:], \n",
    "             df_coordinates['Y'][partition:], label='Efficient Frontier',\n",
    "             marker='o', linestyle='-')\n",
    "    \n",
    "\n",
    "    # Create a line plot for y1\n",
    "    if tan:\n",
    "        plt.plot(line_p, np.arange(start, end, step),\\\n",
    "                 label='tangent', linestyle='-') \n",
    "    # Add a title\n",
    "    plt.title(plt_title)\n",
    "    plt.yticks(np.arange(start, end, step))\n",
    "    # plt.xlim(0,5.5)\n",
    "    # Add labels and a legend\n",
    "    plt.xlabel(x_label)\n",
    "    plt.ylabel(y_label)\n",
    "    plt.legend()\n",
    "\n",
    "    plt.savefig(f'{plt_title}.png')\n",
    "    # Show the plot\n",
    "    plt.show()    \n",
    "\n",
    "    return"
   ]
  },
  {
   "cell_type": "code",
   "execution_count": null,
   "id": "17f19c36",
   "metadata": {},
   "outputs": [],
   "source": [
    "plot_frontier(MTEF[0], MTEF[1], \"tracking error\", \n",
    "              'Expected deviation Return %', \n",
    "              'minimum-tracking-error frontier',\n",
    "             0, 0.105, 0.005, False)"
   ]
  },
  {
   "cell_type": "markdown",
   "id": "22f911c0",
   "metadata": {},
   "source": [
    "#### Q1.2 minimum-tracking-error frontier with tangency line."
   ]
  },
  {
   "cell_type": "code",
   "execution_count": null,
   "id": "da58ddfc",
   "metadata": {},
   "outputs": [],
   "source": [
    "plot_frontier(MTEF[0], MTEF[1], \"tracking error\", \n",
    "              'Expected deviation Return %', \n",
    "              'minimum-tracking-error frontier',\n",
    "             0, 0.105, 0.005, True)"
   ]
  },
  {
   "cell_type": "markdown",
   "id": "a548cec9",
   "metadata": {},
   "source": [
    "#### Q1.3 Information Ratio and Tangency porfolio."
   ]
  },
  {
   "cell_type": "code",
   "execution_count": null,
   "id": "5df177d6",
   "metadata": {},
   "outputs": [],
   "source": [
    "information_ratio"
   ]
  },
  {
   "cell_type": "code",
   "execution_count": null,
   "id": "1e85e948",
   "metadata": {
    "scrolled": true
   },
   "outputs": [],
   "source": [
    "weights_tangency"
   ]
  },
  {
   "cell_type": "markdown",
   "id": "7082d430",
   "metadata": {},
   "source": [
    "> Question 2: Monte Carlo simulation on minimum-variance frontier without short sales"
   ]
  },
  {
   "cell_type": "code",
   "execution_count": null,
   "id": "72dfda04",
   "metadata": {},
   "outputs": [],
   "source": [
    "def plot_scatter(df_coordinates):\n",
    "    plt.scatter(df_coordinates['X'], df_coordinates['Y'], \\\n",
    "                color='blue', marker='o', s=1)\n",
    "\n",
    "    # Adding labels and a legend\n",
    "    plt.xlabel('standard deviation of return')\n",
    "    plt.ylabel('mean return')\n",
    "    plt.title('Minimum-Variance Frontier w/o Short Sales')\n",
    "    plt.legend(labels=[f'{len(df_coordinates):.1e} data points'])\n",
    "\n",
    "    # Show the plot\n",
    "    plt.show()    \n",
    "    return"
   ]
  },
  {
   "cell_type": "code",
   "execution_count": null,
   "id": "5541d64f",
   "metadata": {},
   "outputs": [],
   "source": [
    "def Monte_Carlo_simulation(df_w, R_arr, V_matrix):\n",
    "    coordinates = pd.DataFrame(index=df_w.index, columns=['X', 'Y'])\n",
    "    weights_array = df_w.to_numpy()\n",
    "\n",
    "    coordinates['Y'] = weights_array @ R_arr\n",
    "    variances = np.einsum('ij,jk,ik->i', weights_array, V, weights_array)\n",
    "    coordinates['X'] = variances**0.5\n",
    "\n",
    "    return coordinates"
   ]
  },
  {
   "cell_type": "code",
   "execution_count": null,
   "id": "b205c25f",
   "metadata": {},
   "outputs": [],
   "source": [
    "Rp = Ind_R.iloc[:, 1:].mean(axis = 0).to_numpy()\n",
    "Rp = Rp.T\n",
    "matrix = Ind_R.iloc[:, 1:].to_numpy()\n",
    "# Setting rowvar=False means that each column represents a variable (asset), \n",
    "# and each row represents an observation (sample).\n",
    "V = np.cov(matrix, rowvar=False)"
   ]
  },
  {
   "cell_type": "code",
   "execution_count": null,
   "id": "0c818ef4",
   "metadata": {},
   "outputs": [],
   "source": [
    "V"
   ]
  },
  {
   "cell_type": "code",
   "execution_count": null,
   "id": "21400bb8",
   "metadata": {},
   "outputs": [],
   "source": [
    "def Monte_Carlo_simulation_batch(N, n, R_arr, V_matrix, n_assets,\\\n",
    "                                 func=generate_w_reciprocal):\n",
    "    result = pd.DataFrame(columns=['X', 'Y'])\n",
    "    if n > 10000:\n",
    "        n = 10000\n",
    "    for batch in range(int(N/n)):\n",
    "        result = pd.concat([result, Monte_Carlo_simulation(func(n_assets, n), \\\n",
    "                                                           R_arr, V_matrix)])\n",
    "    \n",
    "    result.index = range(N)\n",
    "    return result\n",
    "    "
   ]
  },
  {
   "cell_type": "code",
   "execution_count": null,
   "id": "f0db9e4d",
   "metadata": {},
   "outputs": [],
   "source": [
    "w_simulation = Monte_Carlo_simulation_batch(100000, 100, Rp, V, 10, generate_w)"
   ]
  },
  {
   "cell_type": "code",
   "execution_count": null,
   "id": "a857806c",
   "metadata": {},
   "outputs": [],
   "source": [
    "w_simulation.describe()"
   ]
  },
  {
   "cell_type": "code",
   "execution_count": null,
   "id": "89f0c10a",
   "metadata": {},
   "outputs": [],
   "source": [
    "w_r_simulation = Monte_Carlo_simulation_batch(100000, 100, Rp, V, 10,\\\n",
    "                                              generate_w_reciprocal)"
   ]
  },
  {
   "cell_type": "code",
   "execution_count": null,
   "id": "ef94df16",
   "metadata": {},
   "outputs": [],
   "source": [
    "w_r_simulation.describe()"
   ]
  },
  {
   "cell_type": "markdown",
   "id": "d3d9593c",
   "metadata": {},
   "source": [
    "#### Q1.1 minimum-tracking-error frontier generated by the ten industry portfolios."
   ]
  },
  {
   "cell_type": "code",
   "execution_count": null,
   "id": "d1f229b9",
   "metadata": {
    "scrolled": false
   },
   "outputs": [],
   "source": [
    "plot_scatter(w_simulation)"
   ]
  },
  {
   "cell_type": "markdown",
   "id": "49339e18",
   "metadata": {},
   "source": [
    "#### Q2.2 Normalised w-reciprocal vector generation of 1e5 data points "
   ]
  },
  {
   "cell_type": "code",
   "execution_count": null,
   "id": "9e1e7a4f",
   "metadata": {},
   "outputs": [],
   "source": [
    "plot_scatter(w_r_simulation)"
   ]
  },
  {
   "cell_type": "markdown",
   "id": "de8d8bb5",
   "metadata": {},
   "source": [
    "## QF 600 Asset Pricing | `Homework 4` | YU Lingfeng\n",
    "## Efficient Frontier Revisit | Submission 1"
   ]
  },
  {
   "cell_type": "markdown",
   "id": "536bdd09",
   "metadata": {},
   "source": [
    "> ### Question 1: Minimum-Tracking-Error Frontier"
   ]
  },
  {
   "cell_type": "code",
   "execution_count": null,
   "id": "783918eb",
   "metadata": {},
   "outputs": [],
   "source": [
    "print(f\"The information ratio is {information_ratio}\\n\")\n",
    "print(\"Weightage on tangency portfolio is:\")\n",
    "weights_tangency"
   ]
  },
  {
   "cell_type": "markdown",
   "id": "63e43b7e",
   "metadata": {},
   "source": [
    "#### Q1.1 minimum-tracking-error frontier generated by the ten industry portfolios."
   ]
  },
  {
   "cell_type": "code",
   "execution_count": null,
   "id": "a2a0781b",
   "metadata": {},
   "outputs": [],
   "source": [
    "plot_frontier(MTEF[0], MTEF[1], \"tracking error\", \n",
    "              'Expected deviation Return %', \n",
    "              'minimum-tracking-error frontier',\n",
    "             0, 0.105, 0.005, False)"
   ]
  },
  {
   "cell_type": "markdown",
   "id": "ea2113ef",
   "metadata": {},
   "source": [
    "#### Q1.2 minimum-tracking-error frontier with tangency line."
   ]
  },
  {
   "cell_type": "code",
   "execution_count": null,
   "id": "603c3f5e",
   "metadata": {},
   "outputs": [],
   "source": [
    "plot_frontier(MTEF[0], MTEF[1], \"tracking error\", \n",
    "              'Expected deviation Return %', \n",
    "              'minimum-tracking-error frontier',\n",
    "             0, 0.105, 0.005, True)"
   ]
  },
  {
   "cell_type": "markdown",
   "id": "a8167668",
   "metadata": {},
   "source": [
    "> Question 2: Monte Carlo simulation on minimum-variance frontier without short sales"
   ]
  },
  {
   "cell_type": "markdown",
   "id": "4e498b3c",
   "metadata": {},
   "source": [
    "#### Q2.1 Normalised w vector generation of 1e5 data points"
   ]
  },
  {
   "cell_type": "code",
   "execution_count": null,
   "id": "123aac25",
   "metadata": {},
   "outputs": [],
   "source": [
    "plot_scatter(Monte_Carlo_simulation_batch\\\n",
    "             (100000, 100, Rp, V, 10, generate_w))"
   ]
  },
  {
   "cell_type": "markdown",
   "id": "1ba0d7d4",
   "metadata": {},
   "source": [
    "#### Q2.2 Normalised w-reciprocal vector generation of 1e5 data points "
   ]
  },
  {
   "cell_type": "code",
   "execution_count": null,
   "id": "e70375f9",
   "metadata": {
    "scrolled": false
   },
   "outputs": [],
   "source": [
    "plot_scatter(Monte_Carlo_simulation_batch\\\n",
    "             (100000, 100, Rp, V, 10, generate_w_reciprocal))"
   ]
  }
 ],
 "metadata": {
  "kernelspec": {
   "display_name": "Python 3 (ipykernel)",
   "language": "python",
   "name": "python3"
  },
  "language_info": {
   "codemirror_mode": {
    "name": "ipython",
    "version": 3
   },
   "file_extension": ".py",
   "mimetype": "text/x-python",
   "name": "python",
   "nbconvert_exporter": "python",
   "pygments_lexer": "ipython3",
   "version": "3.11.3"
  }
 },
 "nbformat": 4,
 "nbformat_minor": 5
}
