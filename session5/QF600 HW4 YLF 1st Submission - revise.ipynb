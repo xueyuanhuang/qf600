{
 "cells": [
  {
   "cell_type": "markdown",
   "id": "ada707ba",
   "metadata": {},
   "source": [
    "# QF 600 Asset Pricing | YU Lingfeng\n",
    "## `Homework 4` | Efficient Frontier Revisit"
   ]
  },
  {
   "cell_type": "markdown",
   "id": "013ccd62",
   "metadata": {},
   "source": [
    "### <font color = green> Activation of necessary libraries. </font>"
   ]
  },
  {
   "cell_type": "code",
   "execution_count": 9,
   "id": "8bbb12db",
   "metadata": {},
   "outputs": [
    {
     "name": "stdout",
     "output_type": "stream",
     "text": [
      "Requirement already satisfied: matplotlib in e:\\software\\anaconda3\\lib\\site-packages (3.7.1)\n",
      "Requirement already satisfied: contourpy>=1.0.1 in e:\\software\\anaconda3\\lib\\site-packages (from matplotlib) (1.0.5)\n",
      "Requirement already satisfied: cycler>=0.10 in e:\\software\\anaconda3\\lib\\site-packages (from matplotlib) (0.11.0)\n",
      "Requirement already satisfied: fonttools>=4.22.0 in e:\\software\\anaconda3\\lib\\site-packages (from matplotlib) (4.25.0)\n",
      "Requirement already satisfied: kiwisolver>=1.0.1 in e:\\software\\anaconda3\\lib\\site-packages (from matplotlib) (1.4.4)\n",
      "Requirement already satisfied: numpy>=1.20 in e:\\software\\anaconda3\\lib\\site-packages (from matplotlib) (1.24.3)\n",
      "Requirement already satisfied: packaging>=20.0 in e:\\software\\anaconda3\\lib\\site-packages (from matplotlib) (23.0)\n",
      "Requirement already satisfied: pillow>=6.2.0 in e:\\software\\anaconda3\\lib\\site-packages (from matplotlib) (9.4.0)\n",
      "Requirement already satisfied: pyparsing>=2.3.1 in e:\\software\\anaconda3\\lib\\site-packages (from matplotlib) (3.0.9)\n",
      "Requirement already satisfied: python-dateutil>=2.7 in e:\\software\\anaconda3\\lib\\site-packages (from matplotlib) (2.8.2)\n",
      "Requirement already satisfied: six>=1.5 in e:\\software\\anaconda3\\lib\\site-packages (from python-dateutil>=2.7->matplotlib) (1.16.0)\n",
      "Requirement already satisfied: openpyxl in e:\\software\\anaconda3\\lib\\site-packages (3.0.10)\n",
      "Collecting openpyxl\n",
      "  Downloading openpyxl-3.1.2-py2.py3-none-any.whl (249 kB)\n",
      "                                              0.0/250.0 kB ? eta -:--:--\n",
      "     -------------------------------------  245.8/250.0 kB 7.4 MB/s eta 0:00:01\n",
      "     -------------------------------------- 250.0/250.0 kB 5.1 MB/s eta 0:00:00\n",
      "Requirement already satisfied: et-xmlfile in e:\\software\\anaconda3\\lib\\site-packages (from openpyxl) (1.1.0)\n",
      "Installing collected packages: openpyxl\n",
      "  Attempting uninstall: openpyxl\n",
      "    Found existing installation: openpyxl 3.0.10\n",
      "    Uninstalling openpyxl-3.0.10:\n",
      "      Successfully uninstalled openpyxl-3.0.10\n"
     ]
    },
    {
     "name": "stderr",
     "output_type": "stream",
     "text": [
      "ERROR: Could not install packages due to an OSError: [WinError 5] 拒绝访问。: 'E:\\\\software\\\\anaconda3\\\\Lib\\\\site-packages\\\\~penpyxl\\\\utils\\\\cell.cp311-win_amd64.pyd'\n",
      "Consider using the `--user` option or check the permissions.\n",
      "\n"
     ]
    },
    {
     "name": "stdout",
     "output_type": "stream",
     "text": [
      "Requirement already satisfied: nbconvert in e:\\software\\anaconda3\\lib\\site-packages (6.5.4)\n",
      "Requirement already satisfied: lxml in e:\\software\\anaconda3\\lib\\site-packages (from nbconvert) (4.9.2)\n",
      "Requirement already satisfied: beautifulsoup4 in e:\\software\\anaconda3\\lib\\site-packages (from nbconvert) (4.12.2)\n",
      "Requirement already satisfied: bleach in e:\\software\\anaconda3\\lib\\site-packages (from nbconvert) (4.1.0)\n",
      "Requirement already satisfied: defusedxml in e:\\software\\anaconda3\\lib\\site-packages (from nbconvert) (0.7.1)\n",
      "Requirement already satisfied: entrypoints>=0.2.2 in e:\\software\\anaconda3\\lib\\site-packages (from nbconvert) (0.4)\n",
      "Requirement already satisfied: jinja2>=3.0 in e:\\software\\anaconda3\\lib\\site-packages (from nbconvert) (3.1.2)\n",
      "Requirement already satisfied: jupyter-core>=4.7 in e:\\software\\anaconda3\\lib\\site-packages (from nbconvert) (5.3.0)\n",
      "Requirement already satisfied: jupyterlab-pygments in e:\\software\\anaconda3\\lib\\site-packages (from nbconvert) (0.1.2)\n",
      "Requirement already satisfied: MarkupSafe>=2.0 in e:\\software\\anaconda3\\lib\\site-packages (from nbconvert) (2.1.1)\n",
      "Requirement already satisfied: mistune<2,>=0.8.1 in e:\\software\\anaconda3\\lib\\site-packages (from nbconvert) (0.8.4)\n",
      "Requirement already satisfied: nbclient>=0.5.0 in e:\\software\\anaconda3\\lib\\site-packages (from nbconvert) (0.5.13)\n",
      "Requirement already satisfied: nbformat>=5.1 in e:\\software\\anaconda3\\lib\\site-packages (from nbconvert) (5.7.0)\n",
      "Requirement already satisfied: packaging in e:\\software\\anaconda3\\lib\\site-packages (from nbconvert) (23.0)\n",
      "Requirement already satisfied: pandocfilters>=1.4.1 in e:\\software\\anaconda3\\lib\\site-packages (from nbconvert) (1.5.0)\n",
      "Requirement already satisfied: pygments>=2.4.1 in e:\\software\\anaconda3\\lib\\site-packages (from nbconvert) (2.15.1)\n",
      "Requirement already satisfied: tinycss2 in e:\\software\\anaconda3\\lib\\site-packages (from nbconvert) (1.2.1)\n",
      "Requirement already satisfied: traitlets>=5.0 in e:\\software\\anaconda3\\lib\\site-packages (from nbconvert) (5.7.1)\n",
      "Requirement already satisfied: platformdirs>=2.5 in e:\\software\\anaconda3\\lib\\site-packages (from jupyter-core>=4.7->nbconvert) (2.5.2)\n",
      "Requirement already satisfied: pywin32>=300 in e:\\software\\anaconda3\\lib\\site-packages (from jupyter-core>=4.7->nbconvert) (305.1)\n",
      "Requirement already satisfied: jupyter-client>=6.1.5 in e:\\software\\anaconda3\\lib\\site-packages (from nbclient>=0.5.0->nbconvert) (8.1.0)\n",
      "Requirement already satisfied: nest-asyncio in e:\\software\\anaconda3\\lib\\site-packages (from nbclient>=0.5.0->nbconvert) (1.5.6)\n",
      "Requirement already satisfied: fastjsonschema in e:\\software\\anaconda3\\lib\\site-packages (from nbformat>=5.1->nbconvert) (2.16.2)\n",
      "Requirement already satisfied: jsonschema>=2.6 in e:\\software\\anaconda3\\lib\\site-packages (from nbformat>=5.1->nbconvert) (4.17.3)\n",
      "Requirement already satisfied: soupsieve>1.2 in e:\\software\\anaconda3\\lib\\site-packages (from beautifulsoup4->nbconvert) (2.4)\n",
      "Requirement already satisfied: six>=1.9.0 in e:\\software\\anaconda3\\lib\\site-packages (from bleach->nbconvert) (1.16.0)\n",
      "Requirement already satisfied: webencodings in e:\\software\\anaconda3\\lib\\site-packages (from bleach->nbconvert) (0.5.1)\n",
      "Requirement already satisfied: attrs>=17.4.0 in e:\\software\\anaconda3\\lib\\site-packages (from jsonschema>=2.6->nbformat>=5.1->nbconvert) (22.1.0)\n",
      "Requirement already satisfied: pyrsistent!=0.17.0,!=0.17.1,!=0.17.2,>=0.14.0 in e:\\software\\anaconda3\\lib\\site-packages (from jsonschema>=2.6->nbformat>=5.1->nbconvert) (0.18.0)\n",
      "Requirement already satisfied: python-dateutil>=2.8.2 in e:\\software\\anaconda3\\lib\\site-packages (from jupyter-client>=6.1.5->nbclient>=0.5.0->nbconvert) (2.8.2)\n",
      "Requirement already satisfied: pyzmq>=23.0 in e:\\software\\anaconda3\\lib\\site-packages (from jupyter-client>=6.1.5->nbclient>=0.5.0->nbconvert) (25.1.0)\n",
      "Requirement already satisfied: tornado>=6.2 in e:\\software\\anaconda3\\lib\\site-packages (from jupyter-client>=6.1.5->nbclient>=0.5.0->nbconvert) (6.2)\n"
     ]
    }
   ],
   "source": [
    "!pip install matplotlib\n",
    "!pip install --upgrade openpyxl\n",
    "!pip install nbconvert"
   ]
  },
  {
   "cell_type": "code",
   "execution_count": 2,
   "id": "b3c44e7b",
   "metadata": {},
   "outputs": [],
   "source": [
    "import pandas as pd\n",
    "import numpy as np\n",
    "import math\n",
    "import matplotlib.pyplot as plt\n",
    "from datetime import datetime\n",
    "\n",
    "from IPython.display import display\n",
    "from IPython.display import Image\n",
    "import random\n",
    "import warnings\n",
    "\n",
    "# Ignore all warnings (not recommended for production code)\n",
    "warnings.filterwarnings(\"ignore\")"
   ]
  },
  {
   "cell_type": "code",
   "execution_count": 3,
   "id": "1355d749",
   "metadata": {},
   "outputs": [],
   "source": [
    "def generate_w(n_asset, n_samples):\n",
    "    col_names = []\n",
    "    for i in range(n_asset):\n",
    "        col_names += [f'w{i+1}']\n",
    "    w = []\n",
    "    for j in range(n_samples):\n",
    "        w_rand = []\n",
    "        for i in range(n_asset):\n",
    "            w_rand += [random.uniform(0, 1)]\n",
    "\n",
    "        w += [w_rand] \n",
    "    w = pd.DataFrame(w)\n",
    "    w.columns = col_names\n",
    "    w['sum'] = w.sum(axis = 1)\n",
    "    for col in w.iloc[:,:-1].columns:\n",
    "        w[col] = w[col] / w['sum']\n",
    "    w['Norm_sum'] = w.iloc[:,:-1].sum(axis = 1) \n",
    "    return w.iloc[:, :-2]\n",
    "\n"
   ]
  },
  {
   "cell_type": "code",
   "execution_count": 4,
   "id": "c4873a18",
   "metadata": {},
   "outputs": [],
   "source": [
    "def generate_w_reciprocal(n_asset, n_samples):\n",
    "    col_names = []\n",
    "    for i in range(n_asset):\n",
    "        col_names += [f'w{i+1}']\n",
    "    w = []\n",
    "    for j in range(n_samples):\n",
    "        w_rand = []\n",
    "        for i in range(n_asset):\n",
    "            w_rand += [1/random.uniform(0, 1)]\n",
    "\n",
    "        w += [w_rand] \n",
    "    w = pd.DataFrame(w)\n",
    "    w.columns = col_names\n",
    "    w['sum'] = w.sum(axis = 1)\n",
    "    for col in w.iloc[:,:-1].columns:\n",
    "        w[col] = w[col] / w['sum']\n",
    "    w['Norm_sum'] = w.iloc[:,:-1].sum(axis = 1) \n",
    "    return w.iloc[:, :-2]    "
   ]
  },
  {
   "cell_type": "code",
   "execution_count": 5,
   "id": "4df06414",
   "metadata": {},
   "outputs": [
    {
     "data": {
      "text/html": [
       "<div>\n",
       "<style scoped>\n",
       "    .dataframe tbody tr th:only-of-type {\n",
       "        vertical-align: middle;\n",
       "    }\n",
       "\n",
       "    .dataframe tbody tr th {\n",
       "        vertical-align: top;\n",
       "    }\n",
       "\n",
       "    .dataframe thead th {\n",
       "        text-align: right;\n",
       "    }\n",
       "</style>\n",
       "<table border=\"1\" class=\"dataframe\">\n",
       "  <thead>\n",
       "    <tr style=\"text-align: right;\">\n",
       "      <th></th>\n",
       "      <th>w1</th>\n",
       "      <th>w2</th>\n",
       "      <th>w3</th>\n",
       "      <th>w4</th>\n",
       "      <th>w5</th>\n",
       "      <th>w6</th>\n",
       "      <th>w7</th>\n",
       "      <th>w8</th>\n",
       "      <th>w9</th>\n",
       "      <th>w10</th>\n",
       "    </tr>\n",
       "  </thead>\n",
       "  <tbody>\n",
       "    <tr>\n",
       "      <th>0</th>\n",
       "      <td>0.098411</td>\n",
       "      <td>0.128033</td>\n",
       "      <td>0.271638</td>\n",
       "      <td>0.045974</td>\n",
       "      <td>0.051440</td>\n",
       "      <td>0.092325</td>\n",
       "      <td>0.047181</td>\n",
       "      <td>0.059704</td>\n",
       "      <td>0.070121</td>\n",
       "      <td>0.135174</td>\n",
       "    </tr>\n",
       "    <tr>\n",
       "      <th>1</th>\n",
       "      <td>0.062955</td>\n",
       "      <td>0.052854</td>\n",
       "      <td>0.011403</td>\n",
       "      <td>0.011386</td>\n",
       "      <td>0.137484</td>\n",
       "      <td>0.028534</td>\n",
       "      <td>0.011374</td>\n",
       "      <td>0.578458</td>\n",
       "      <td>0.090997</td>\n",
       "      <td>0.014556</td>\n",
       "    </tr>\n",
       "    <tr>\n",
       "      <th>2</th>\n",
       "      <td>0.111978</td>\n",
       "      <td>0.008643</td>\n",
       "      <td>0.036487</td>\n",
       "      <td>0.006481</td>\n",
       "      <td>0.778218</td>\n",
       "      <td>0.016234</td>\n",
       "      <td>0.009140</td>\n",
       "      <td>0.005889</td>\n",
       "      <td>0.005722</td>\n",
       "      <td>0.021207</td>\n",
       "    </tr>\n",
       "    <tr>\n",
       "      <th>3</th>\n",
       "      <td>0.364593</td>\n",
       "      <td>0.085009</td>\n",
       "      <td>0.256705</td>\n",
       "      <td>0.038701</td>\n",
       "      <td>0.038956</td>\n",
       "      <td>0.036170</td>\n",
       "      <td>0.057922</td>\n",
       "      <td>0.031001</td>\n",
       "      <td>0.059859</td>\n",
       "      <td>0.031084</td>\n",
       "    </tr>\n",
       "  </tbody>\n",
       "</table>\n",
       "</div>"
      ],
      "text/plain": [
       "         w1        w2        w3        w4        w5        w6        w7  \\\n",
       "0  0.098411  0.128033  0.271638  0.045974  0.051440  0.092325  0.047181   \n",
       "1  0.062955  0.052854  0.011403  0.011386  0.137484  0.028534  0.011374   \n",
       "2  0.111978  0.008643  0.036487  0.006481  0.778218  0.016234  0.009140   \n",
       "3  0.364593  0.085009  0.256705  0.038701  0.038956  0.036170  0.057922   \n",
       "\n",
       "         w8        w9       w10  \n",
       "0  0.059704  0.070121  0.135174  \n",
       "1  0.578458  0.090997  0.014556  \n",
       "2  0.005889  0.005722  0.021207  \n",
       "3  0.031001  0.059859  0.031084  "
      ]
     },
     "execution_count": 5,
     "metadata": {},
     "output_type": "execute_result"
    }
   ],
   "source": [
    "t = generate_w_reciprocal(10, 4)\n",
    "t"
   ]
  },
  {
   "cell_type": "markdown",
   "id": "89c8d528",
   "metadata": {},
   "source": [
    "### <font color = \"blue\"> `IMPORT` dataset: `Industry_Portfolios.xlsx`. `Market_Portfolio.csv` </font> \n",
    "### <font color = \"blue\"> Validate dataset"
   ]
  },
  {
   "cell_type": "markdown",
   "id": "995fd0c2",
   "metadata": {},
   "source": [
    "> ### Question 1: Minimum-Tracking-Error Frontier"
   ]
  },
  {
   "cell_type": "markdown",
   "id": "9c8eb04b",
   "metadata": {},
   "source": [
    "#### Q1.1 minimum-tracking-error frontier generated by the ten industry portfolios."
   ]
  },
  {
   "cell_type": "code",
   "execution_count": 6,
   "id": "31cece74",
   "metadata": {},
   "outputs": [],
   "source": [
    "Ind_R = pd.read_excel(\"Industry_Portfolios.xlsx\", index_col=\"Date\")\n",
    "Mkt_R = pd.read_excel(\"Market_Portfolio.xlsx\", index_col=\"Date\")"
   ]
  },
  {
   "cell_type": "code",
   "execution_count": 7,
   "id": "ccda323d",
   "metadata": {},
   "outputs": [],
   "source": [
    "def Min_Tracking_Error_Frontier(Portfolio_R, Market_R, Rf, start, end, step):\n",
    "    col_names = list(Portfolio_R.columns)\n",
    "    result = 0\n",
    "    R_i = Portfolio_R.iloc[:,1:]\n",
    "    for col in R_i.columns:\n",
    "        R_i[col] = R_i[col] - Mkt_R.iloc[:,1]\n",
    "    R_i_matrix = R_i.iloc[:, :].to_numpy()\n",
    "    \n",
    "    R_i_mean = R_i.mean(axis = 0)\n",
    "    R_i_mean = pd.DataFrame(R_i_mean)\n",
    "    R_i_mean.columns = ['Ri_mean']\n",
    "    R_i_mean['Ri_std'] = R_i.std(axis = 0)\n",
    "    R_i_mean['Ri_var'] = R_i_mean['Ri_std'] ** 2\n",
    "\n",
    "    # Calculate the variance-covariance matrix\n",
    "    # Setting rowvar=False means that each column represents a variable (asset), \n",
    "    # and each row represents an observation (sample).\n",
    "    V = np.cov(R_i_matrix, rowvar=False)\n",
    "    # Calculate the V-inverse\n",
    "    V_inv = np.linalg.inv(V)\n",
    "\n",
    "    # Calculate the R-prime (transpose)\n",
    "    R_prime = R_i_mean['Ri_mean'].to_numpy()\n",
    "    R = np.transpose(R_prime)\n",
    "    # create the unit vector e\n",
    "    e_prime = np.ones(len(col_names) - 1)\n",
    "    e = e_prime.T\n",
    "\n",
    "    alpha = R_prime @ V_inv @ e\n",
    "    zeta = R_prime @ V_inv @ R\n",
    "    delta = np.dot(np.dot(e_prime, V_inv), e)    \n",
    "\n",
    "    Rmv = alpha / delta\n",
    "    Rp = np.arange(start, end, step)\n",
    "    Var = (1 / delta) + (delta / (zeta * delta - alpha ** 2) ) * ((Rp - Rmv) ** 2)\n",
    "    st_d = Var ** 0.5\n",
    "    \n",
    "    frontier_plot = [Rp, st_d]\n",
    "    \n",
    "    frontier_plot = pd.DataFrame(frontier_plot)\n",
    "    frontier_plot.index = ['Y', 'X']\n",
    "\n",
    "    # name sigma_p for differentiate with previous st_d, for tangency line\n",
    "    sigma_p = (Rp - Rf) / ((zeta - 2 * alpha * Rf + delta * (Rf**2)) ** 0.5)\n",
    "      \n",
    "    # Information Ratio for tangency portfolio = (Rtg - Rf) / sigma_tg\n",
    "    Info_ratio_tg = (zeta - 2 * alpha * Rf + delta * (Rf**2)) ** 0.5\n",
    "    \n",
    "    Rtg = (alpha * Rf - zeta) / (delta * Rf - alpha)\n",
    "    # Weightage w* = a + b * Rp, on Lecture Notes 2 Page 12\n",
    "    w_star = ((delta * Rtg - alpha) / (zeta * delta - alpha ** 2)) *\\\n",
    "                                    (V_inv @ R) + ((zeta - alpha * Rtg) / \\\n",
    "                                    (zeta * delta - alpha ** 2)) * (V_inv @ e)    \n",
    "    w_star = pd.DataFrame(w_star)\n",
    "    w_star.columns = ['Weightage']\n",
    "    w_star.index = col_names[1:]\n",
    "    print(alpha)\n",
    "    return [frontier_plot.T, sigma_p, V, R_i_mean, Info_ratio_tg, w_star]"
   ]
  },
  {
   "cell_type": "code",
   "execution_count": 8,
   "id": "9cb95c8b",
   "metadata": {},
   "outputs": [
    {
     "ename": "IndexError",
     "evalue": "single positional indexer is out-of-bounds",
     "output_type": "error",
     "traceback": [
      "\u001b[1;31m---------------------------------------------------------------------------\u001b[0m",
      "\u001b[1;31mIndexError\u001b[0m                                Traceback (most recent call last)",
      "Cell \u001b[1;32mIn[8], line 1\u001b[0m\n\u001b[1;32m----> 1\u001b[0m MTEF \u001b[38;5;241m=\u001b[39m Min_Tracking_Error_Frontier(Ind_R, Mkt_R, \u001b[38;5;241m0\u001b[39m, \u001b[38;5;241m0\u001b[39m, \u001b[38;5;241m0.105\u001b[39m, \u001b[38;5;241m0.005\u001b[39m)\n\u001b[0;32m      2\u001b[0m MTEF[\u001b[38;5;241m-\u001b[39m\u001b[38;5;241m1\u001b[39m]\n",
      "Cell \u001b[1;32mIn[7], line 6\u001b[0m, in \u001b[0;36mMin_Tracking_Error_Frontier\u001b[1;34m(Portfolio_R, Market_R, Rf, start, end, step)\u001b[0m\n\u001b[0;32m      4\u001b[0m R_i \u001b[38;5;241m=\u001b[39m Portfolio_R\u001b[38;5;241m.\u001b[39miloc[:,\u001b[38;5;241m1\u001b[39m:]\n\u001b[0;32m      5\u001b[0m \u001b[38;5;28;01mfor\u001b[39;00m col \u001b[38;5;129;01min\u001b[39;00m R_i\u001b[38;5;241m.\u001b[39mcolumns:\n\u001b[1;32m----> 6\u001b[0m     R_i[col] \u001b[38;5;241m=\u001b[39m R_i[col] \u001b[38;5;241m-\u001b[39m Mkt_R\u001b[38;5;241m.\u001b[39miloc[:,\u001b[38;5;241m1\u001b[39m]\n\u001b[0;32m      7\u001b[0m R_i_matrix \u001b[38;5;241m=\u001b[39m R_i\u001b[38;5;241m.\u001b[39miloc[:, :]\u001b[38;5;241m.\u001b[39mto_numpy()\n\u001b[0;32m      9\u001b[0m R_i_mean \u001b[38;5;241m=\u001b[39m R_i\u001b[38;5;241m.\u001b[39mmean(axis \u001b[38;5;241m=\u001b[39m \u001b[38;5;241m0\u001b[39m)\n",
      "File \u001b[1;32mE:\\software\\anaconda3\\Lib\\site-packages\\pandas\\core\\indexing.py:1147\u001b[0m, in \u001b[0;36m_LocationIndexer.__getitem__\u001b[1;34m(self, key)\u001b[0m\n\u001b[0;32m   1145\u001b[0m     \u001b[38;5;28;01mif\u001b[39;00m \u001b[38;5;28mself\u001b[39m\u001b[38;5;241m.\u001b[39m_is_scalar_access(key):\n\u001b[0;32m   1146\u001b[0m         \u001b[38;5;28;01mreturn\u001b[39;00m \u001b[38;5;28mself\u001b[39m\u001b[38;5;241m.\u001b[39mobj\u001b[38;5;241m.\u001b[39m_get_value(\u001b[38;5;241m*\u001b[39mkey, takeable\u001b[38;5;241m=\u001b[39m\u001b[38;5;28mself\u001b[39m\u001b[38;5;241m.\u001b[39m_takeable)\n\u001b[1;32m-> 1147\u001b[0m     \u001b[38;5;28;01mreturn\u001b[39;00m \u001b[38;5;28mself\u001b[39m\u001b[38;5;241m.\u001b[39m_getitem_tuple(key)\n\u001b[0;32m   1148\u001b[0m \u001b[38;5;28;01melse\u001b[39;00m:\n\u001b[0;32m   1149\u001b[0m     \u001b[38;5;66;03m# we by definition only have the 0th axis\u001b[39;00m\n\u001b[0;32m   1150\u001b[0m     axis \u001b[38;5;241m=\u001b[39m \u001b[38;5;28mself\u001b[39m\u001b[38;5;241m.\u001b[39maxis \u001b[38;5;129;01mor\u001b[39;00m \u001b[38;5;241m0\u001b[39m\n",
      "File \u001b[1;32mE:\\software\\anaconda3\\Lib\\site-packages\\pandas\\core\\indexing.py:1652\u001b[0m, in \u001b[0;36m_iLocIndexer._getitem_tuple\u001b[1;34m(self, tup)\u001b[0m\n\u001b[0;32m   1651\u001b[0m \u001b[38;5;28;01mdef\u001b[39;00m \u001b[38;5;21m_getitem_tuple\u001b[39m(\u001b[38;5;28mself\u001b[39m, tup: \u001b[38;5;28mtuple\u001b[39m):\n\u001b[1;32m-> 1652\u001b[0m     tup \u001b[38;5;241m=\u001b[39m \u001b[38;5;28mself\u001b[39m\u001b[38;5;241m.\u001b[39m_validate_tuple_indexer(tup)\n\u001b[0;32m   1653\u001b[0m     \u001b[38;5;28;01mwith\u001b[39;00m suppress(IndexingError):\n\u001b[0;32m   1654\u001b[0m         \u001b[38;5;28;01mreturn\u001b[39;00m \u001b[38;5;28mself\u001b[39m\u001b[38;5;241m.\u001b[39m_getitem_lowerdim(tup)\n",
      "File \u001b[1;32mE:\\software\\anaconda3\\Lib\\site-packages\\pandas\\core\\indexing.py:940\u001b[0m, in \u001b[0;36m_LocationIndexer._validate_tuple_indexer\u001b[1;34m(self, key)\u001b[0m\n\u001b[0;32m    938\u001b[0m \u001b[38;5;28;01mfor\u001b[39;00m i, k \u001b[38;5;129;01min\u001b[39;00m \u001b[38;5;28menumerate\u001b[39m(key):\n\u001b[0;32m    939\u001b[0m     \u001b[38;5;28;01mtry\u001b[39;00m:\n\u001b[1;32m--> 940\u001b[0m         \u001b[38;5;28mself\u001b[39m\u001b[38;5;241m.\u001b[39m_validate_key(k, i)\n\u001b[0;32m    941\u001b[0m     \u001b[38;5;28;01mexcept\u001b[39;00m \u001b[38;5;167;01mValueError\u001b[39;00m \u001b[38;5;28;01mas\u001b[39;00m err:\n\u001b[0;32m    942\u001b[0m         \u001b[38;5;28;01mraise\u001b[39;00m \u001b[38;5;167;01mValueError\u001b[39;00m(\n\u001b[0;32m    943\u001b[0m             \u001b[38;5;124m\"\u001b[39m\u001b[38;5;124mLocation based indexing can only have \u001b[39m\u001b[38;5;124m\"\u001b[39m\n\u001b[0;32m    944\u001b[0m             \u001b[38;5;124mf\u001b[39m\u001b[38;5;124m\"\u001b[39m\u001b[38;5;124m[\u001b[39m\u001b[38;5;132;01m{\u001b[39;00m\u001b[38;5;28mself\u001b[39m\u001b[38;5;241m.\u001b[39m_valid_types\u001b[38;5;132;01m}\u001b[39;00m\u001b[38;5;124m] types\u001b[39m\u001b[38;5;124m\"\u001b[39m\n\u001b[0;32m    945\u001b[0m         ) \u001b[38;5;28;01mfrom\u001b[39;00m \u001b[38;5;21;01merr\u001b[39;00m\n",
      "File \u001b[1;32mE:\\software\\anaconda3\\Lib\\site-packages\\pandas\\core\\indexing.py:1554\u001b[0m, in \u001b[0;36m_iLocIndexer._validate_key\u001b[1;34m(self, key, axis)\u001b[0m\n\u001b[0;32m   1552\u001b[0m     \u001b[38;5;28;01mreturn\u001b[39;00m\n\u001b[0;32m   1553\u001b[0m \u001b[38;5;28;01melif\u001b[39;00m is_integer(key):\n\u001b[1;32m-> 1554\u001b[0m     \u001b[38;5;28mself\u001b[39m\u001b[38;5;241m.\u001b[39m_validate_integer(key, axis)\n\u001b[0;32m   1555\u001b[0m \u001b[38;5;28;01melif\u001b[39;00m \u001b[38;5;28misinstance\u001b[39m(key, \u001b[38;5;28mtuple\u001b[39m):\n\u001b[0;32m   1556\u001b[0m     \u001b[38;5;66;03m# a tuple should already have been caught by this point\u001b[39;00m\n\u001b[0;32m   1557\u001b[0m     \u001b[38;5;66;03m# so don't treat a tuple as a valid indexer\u001b[39;00m\n\u001b[0;32m   1558\u001b[0m     \u001b[38;5;28;01mraise\u001b[39;00m IndexingError(\u001b[38;5;124m\"\u001b[39m\u001b[38;5;124mToo many indexers\u001b[39m\u001b[38;5;124m\"\u001b[39m)\n",
      "File \u001b[1;32mE:\\software\\anaconda3\\Lib\\site-packages\\pandas\\core\\indexing.py:1647\u001b[0m, in \u001b[0;36m_iLocIndexer._validate_integer\u001b[1;34m(self, key, axis)\u001b[0m\n\u001b[0;32m   1645\u001b[0m len_axis \u001b[38;5;241m=\u001b[39m \u001b[38;5;28mlen\u001b[39m(\u001b[38;5;28mself\u001b[39m\u001b[38;5;241m.\u001b[39mobj\u001b[38;5;241m.\u001b[39m_get_axis(axis))\n\u001b[0;32m   1646\u001b[0m \u001b[38;5;28;01mif\u001b[39;00m key \u001b[38;5;241m>\u001b[39m\u001b[38;5;241m=\u001b[39m len_axis \u001b[38;5;129;01mor\u001b[39;00m key \u001b[38;5;241m<\u001b[39m \u001b[38;5;241m-\u001b[39mlen_axis:\n\u001b[1;32m-> 1647\u001b[0m     \u001b[38;5;28;01mraise\u001b[39;00m \u001b[38;5;167;01mIndexError\u001b[39;00m(\u001b[38;5;124m\"\u001b[39m\u001b[38;5;124msingle positional indexer is out-of-bounds\u001b[39m\u001b[38;5;124m\"\u001b[39m)\n",
      "\u001b[1;31mIndexError\u001b[0m: single positional indexer is out-of-bounds"
     ]
    }
   ],
   "source": [
    "MTEF = Min_Tracking_Error_Frontier(Ind_R, Mkt_R, 0, 0, 0.105, 0.005)\n",
    "MTEF[-1]"
   ]
  },
  {
   "cell_type": "code",
   "execution_count": null,
   "id": "6be62515",
   "metadata": {},
   "outputs": [],
   "source": [
    "information_ratio = MTEF[-2]\n",
    "weights_tangency = MTEF[-1]"
   ]
  },
  {
   "cell_type": "code",
   "execution_count": null,
   "id": "04d877e5",
   "metadata": {},
   "outputs": [],
   "source": [
    "def plot_frontier(df_coordinates, line_p, x_label, y_label, plt_title,\\\n",
    "                  start, end, step, tan=True):\n",
    "    partition = (len(df_coordinates)) // 2\n",
    "\n",
    "    plt.figure(figsize=(8, 6))\n",
    "    # Create a line plot for y1\n",
    "    plt.plot(df_coordinates['X'][:partition+1], \n",
    "             df_coordinates['Y'][:partition+1], label='Inefficient',\n",
    "             marker='s', linestyle='--')\n",
    "\n",
    "    # Create a line plot for y2\n",
    "    plt.plot(df_coordinates['X'][partition:], \n",
    "             df_coordinates['Y'][partition:], label='Efficient Frontier',\n",
    "             marker='o', linestyle='-')\n",
    "    \n",
    "\n",
    "    # Create a line plot for y1\n",
    "    if tan:\n",
    "        plt.plot(line_p, np.arange(start, end, step),\\\n",
    "                 label='tangent', linestyle='-') \n",
    "    # Add a title\n",
    "    plt.title(plt_title)\n",
    "    plt.yticks(np.arange(start, end, step))\n",
    "    # plt.xlim(0,5.5)\n",
    "    # Add labels and a legend\n",
    "    plt.xlabel(x_label)\n",
    "    plt.ylabel(y_label)\n",
    "    plt.legend()\n",
    "\n",
    "    plt.savefig(f'{plt_title}.png')\n",
    "    # Show the plot\n",
    "    plt.show()    \n",
    "\n",
    "    return"
   ]
  },
  {
   "cell_type": "code",
   "execution_count": null,
   "id": "17f19c36",
   "metadata": {},
   "outputs": [],
   "source": [
    "plot_frontier(MTEF[0], MTEF[1], \"tracking error\", \n",
    "              'Expected deviation Return %', \n",
    "              'minimum-tracking-error frontier',\n",
    "             0, 0.105, 0.005, False)"
   ]
  },
  {
   "cell_type": "markdown",
   "id": "22f911c0",
   "metadata": {},
   "source": [
    "#### Q1.2 minimum-tracking-error frontier with tangency line."
   ]
  },
  {
   "cell_type": "code",
   "execution_count": null,
   "id": "da58ddfc",
   "metadata": {},
   "outputs": [],
   "source": [
    "plot_frontier(MTEF[0], MTEF[1], \"tracking error\", \n",
    "              'Expected deviation Return %', \n",
    "              'minimum-tracking-error frontier',\n",
    "             0, 0.105, 0.005, True)"
   ]
  },
  {
   "cell_type": "markdown",
   "id": "a548cec9",
   "metadata": {},
   "source": [
    "#### Q1.3 Information Ratio and Tangency porfolio."
   ]
  },
  {
   "cell_type": "code",
   "execution_count": null,
   "id": "5df177d6",
   "metadata": {},
   "outputs": [],
   "source": [
    "information_ratio"
   ]
  },
  {
   "cell_type": "code",
   "execution_count": null,
   "id": "1e85e948",
   "metadata": {
    "scrolled": true
   },
   "outputs": [],
   "source": [
    "weights_tangency"
   ]
  },
  {
   "cell_type": "markdown",
   "id": "7082d430",
   "metadata": {},
   "source": [
    "> Question 2: Monte Carlo simulation on minimum-variance frontier without short sales"
   ]
  },
  {
   "cell_type": "code",
   "execution_count": null,
   "id": "72dfda04",
   "metadata": {},
   "outputs": [],
   "source": [
    "def plot_scatter(df_coordinates):\n",
    "    plt.scatter(df_coordinates['X'], df_coordinates['Y'], \\\n",
    "                color='blue', marker='o', s=1)\n",
    "\n",
    "    # Adding labels and a legend\n",
    "    plt.xlabel('standard deviation of return')\n",
    "    plt.ylabel('mean return')\n",
    "    plt.title('Minimum-Variance Frontier w/o Short Sales')\n",
    "    plt.legend(labels=[f'{len(df_coordinates):.1e} data points'])\n",
    "\n",
    "    # Show the plot\n",
    "    plt.show()    \n",
    "    return"
   ]
  },
  {
   "cell_type": "code",
   "execution_count": null,
   "id": "5541d64f",
   "metadata": {},
   "outputs": [],
   "source": [
    "def Monte_Carlo_simulation(df_w, R_arr, V_matrix):\n",
    "    coordinates = pd.DataFrame(index=df_w.index, columns=['X', 'Y'])\n",
    "    weights_array = df_w.to_numpy()\n",
    "\n",
    "    coordinates['Y'] = weights_array @ R_arr\n",
    "    variances = np.einsum('ij,jk,ik->i', weights_array, V, weights_array)\n",
    "    coordinates['X'] = variances**0.5\n",
    "\n",
    "    return coordinates"
   ]
  },
  {
   "cell_type": "code",
   "execution_count": null,
   "id": "b205c25f",
   "metadata": {},
   "outputs": [],
   "source": [
    "Rp = Ind_R.iloc[:, 1:].mean(axis = 0).to_numpy()\n",
    "Rp = Rp.T\n",
    "matrix = Ind_R.iloc[:, 1:].to_numpy()\n",
    "# Setting rowvar=False means that each column represents a variable (asset), \n",
    "# and each row represents an observation (sample).\n",
    "V = np.cov(matrix, rowvar=False)"
   ]
  },
  {
   "cell_type": "code",
   "execution_count": null,
   "id": "0c818ef4",
   "metadata": {},
   "outputs": [],
   "source": [
    "V"
   ]
  },
  {
   "cell_type": "code",
   "execution_count": null,
   "id": "21400bb8",
   "metadata": {},
   "outputs": [],
   "source": [
    "def Monte_Carlo_simulation_batch(N, n, R_arr, V_matrix, n_assets,\\\n",
    "                                 func=generate_w_reciprocal):\n",
    "    result = pd.DataFrame(columns=['X', 'Y'])\n",
    "    if n > 10000:\n",
    "        n = 10000\n",
    "    for batch in range(int(N/n)):\n",
    "        result = pd.concat([result, Monte_Carlo_simulation(func(n_assets, n), \\\n",
    "                                                           R_arr, V_matrix)])\n",
    "    \n",
    "    result.index = range(N)\n",
    "    return result\n",
    "    "
   ]
  },
  {
   "cell_type": "code",
   "execution_count": null,
   "id": "f0db9e4d",
   "metadata": {},
   "outputs": [],
   "source": [
    "w_simulation = Monte_Carlo_simulation_batch(100000, 100, Rp, V, 10, generate_w)"
   ]
  },
  {
   "cell_type": "code",
   "execution_count": null,
   "id": "a857806c",
   "metadata": {},
   "outputs": [],
   "source": [
    "w_simulation.describe()"
   ]
  },
  {
   "cell_type": "code",
   "execution_count": null,
   "id": "89f0c10a",
   "metadata": {},
   "outputs": [],
   "source": [
    "w_r_simulation = Monte_Carlo_simulation_batch(100000, 100, Rp, V, 10,\\\n",
    "                                              generate_w_reciprocal)"
   ]
  },
  {
   "cell_type": "code",
   "execution_count": null,
   "id": "ef94df16",
   "metadata": {},
   "outputs": [],
   "source": [
    "w_r_simulation.describe()"
   ]
  },
  {
   "cell_type": "markdown",
   "id": "d3d9593c",
   "metadata": {},
   "source": [
    "#### Q1.1 minimum-tracking-error frontier generated by the ten industry portfolios."
   ]
  },
  {
   "cell_type": "code",
   "execution_count": null,
   "id": "d1f229b9",
   "metadata": {
    "scrolled": false
   },
   "outputs": [],
   "source": [
    "plot_scatter(w_simulation)"
   ]
  },
  {
   "cell_type": "markdown",
   "id": "49339e18",
   "metadata": {},
   "source": [
    "#### Q2.2 Normalised w-reciprocal vector generation of 1e5 data points "
   ]
  },
  {
   "cell_type": "code",
   "execution_count": null,
   "id": "9e1e7a4f",
   "metadata": {},
   "outputs": [],
   "source": [
    "plot_scatter(w_r_simulation)"
   ]
  },
  {
   "cell_type": "markdown",
   "id": "de8d8bb5",
   "metadata": {},
   "source": [
    "## QF 600 Asset Pricing | `Homework 4` | YU Lingfeng\n",
    "## Efficient Frontier Revisit | Submission 1"
   ]
  },
  {
   "cell_type": "markdown",
   "id": "536bdd09",
   "metadata": {},
   "source": [
    "> ### Question 1: Minimum-Tracking-Error Frontier"
   ]
  },
  {
   "cell_type": "code",
   "execution_count": null,
   "id": "783918eb",
   "metadata": {},
   "outputs": [],
   "source": [
    "print(f\"The information ratio is {information_ratio}\\n\")\n",
    "print(\"Weightage on tangency portfolio is:\")\n",
    "weights_tangency"
   ]
  },
  {
   "cell_type": "markdown",
   "id": "63e43b7e",
   "metadata": {},
   "source": [
    "#### Q1.1 minimum-tracking-error frontier generated by the ten industry portfolios."
   ]
  },
  {
   "cell_type": "code",
   "execution_count": null,
   "id": "a2a0781b",
   "metadata": {},
   "outputs": [],
   "source": [
    "plot_frontier(MTEF[0], MTEF[1], \"tracking error\", \n",
    "              'Expected deviation Return %', \n",
    "              'minimum-tracking-error frontier',\n",
    "             0, 0.105, 0.005, False)"
   ]
  },
  {
   "cell_type": "markdown",
   "id": "ea2113ef",
   "metadata": {},
   "source": [
    "#### Q1.2 minimum-tracking-error frontier with tangency line."
   ]
  },
  {
   "cell_type": "code",
   "execution_count": null,
   "id": "603c3f5e",
   "metadata": {},
   "outputs": [],
   "source": [
    "plot_frontier(MTEF[0], MTEF[1], \"tracking error\", \n",
    "              'Expected deviation Return %', \n",
    "              'minimum-tracking-error frontier',\n",
    "             0, 0.105, 0.005, True)"
   ]
  },
  {
   "cell_type": "markdown",
   "id": "a8167668",
   "metadata": {},
   "source": [
    "> Question 2: Monte Carlo simulation on minimum-variance frontier without short sales"
   ]
  },
  {
   "cell_type": "markdown",
   "id": "4e498b3c",
   "metadata": {},
   "source": [
    "#### Q2.1 Normalised w vector generation of 1e5 data points"
   ]
  },
  {
   "cell_type": "code",
   "execution_count": null,
   "id": "123aac25",
   "metadata": {},
   "outputs": [],
   "source": [
    "plot_scatter(Monte_Carlo_simulation_batch\\\n",
    "             (100000, 100, Rp, V, 10, generate_w))"
   ]
  },
  {
   "cell_type": "markdown",
   "id": "1ba0d7d4",
   "metadata": {},
   "source": [
    "#### Q2.2 Normalised w-reciprocal vector generation of 1e5 data points "
   ]
  },
  {
   "cell_type": "code",
   "execution_count": null,
   "id": "e70375f9",
   "metadata": {
    "scrolled": false
   },
   "outputs": [],
   "source": [
    "plot_scatter(Monte_Carlo_simulation_batch\\\n",
    "             (100000, 100, Rp, V, 10, generate_w_reciprocal))"
   ]
  }
 ],
 "metadata": {
  "kernelspec": {
   "display_name": "Python 3 (ipykernel)",
   "language": "python",
   "name": "python3"
  },
  "language_info": {
   "codemirror_mode": {
    "name": "ipython",
    "version": 3
   },
   "file_extension": ".py",
   "mimetype": "text/x-python",
   "name": "python",
   "nbconvert_exporter": "python",
   "pygments_lexer": "ipython3",
   "version": "3.11.3"
  }
 },
 "nbformat": 4,
 "nbformat_minor": 5
}
